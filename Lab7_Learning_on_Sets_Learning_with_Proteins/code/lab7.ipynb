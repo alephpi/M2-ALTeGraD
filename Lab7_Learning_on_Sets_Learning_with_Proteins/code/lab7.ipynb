{
 "cells": [
  {
   "cell_type": "markdown",
   "id": "1962db18-a915-4e31-a84a-fed90d6806d3",
   "metadata": {},
   "source": [
    "# Lab 7"
   ]
  },
  {
   "cell_type": "markdown",
   "id": "4b03e1b0-3339-4c55-9d8e-241cf7a5094d",
   "metadata": {
    "tags": []
   },
   "source": [
    "## part 1"
   ]
  },
  {
   "cell_type": "markdown",
   "id": "f4bfdb5e-0165-4e3d-ba72-c492bfd2769b",
   "metadata": {
    "tags": []
   },
   "source": [
    "### util.py"
   ]
  },
  {
   "cell_type": "code",
   "execution_count": 38,
   "id": "d0e99030-a7fe-4f70-9256-b2dd7f780df6",
   "metadata": {},
   "outputs": [],
   "source": [
    "\"\"\"\n",
    "Learning on Sets / Learning with Proteins - ALTEGRAD - Dec 2022\n",
    "\"\"\"\n",
    "\n",
    "import numpy as np\n",
    "import random\n",
    "\n",
    "def create_train_dataset():\n",
    "    n_train = 100000\n",
    "    max_train_card = 10\n",
    "\n",
    "    ############## Task 1\n",
    "    X_train = []\n",
    "    y_train = []\n",
    "    ##################\n",
    "    for i in range(n_train):\n",
    "        card = random.randint(1,max_train_card)\n",
    "        s = np.random.randint(1,max_train_card, card)\n",
    "        padding = np.zeros(max_train_card - s.shape[0])\n",
    "        s = np.concatenate((s, padding)).astype(int)\n",
    "        X_train.append(s)\n",
    "        y_train.append(s.sum())\n",
    "    ##################\n",
    "\n",
    "    return X_train, y_train\n",
    "\n",
    "\n",
    "def create_test_dataset():\n",
    "    \n",
    "    ############## Task 2\n",
    "    \n",
    "    ##################\n",
    "    n_test = 10000\n",
    "    max_test_digit = 10\n",
    "    X_test = []\n",
    "    y_test = []\n",
    "    for j in range(5,105,5):\n",
    "            s = np.random.randint(1,max_test_digit, size=(n_test,j)).astype(int)\n",
    "            X_test.append(s)\n",
    "            y_test.append(s.sum(axis=1))\n",
    "    ##################\n",
    "\n",
    "    return X_test, y_test"
   ]
  },
  {
   "cell_type": "markdown",
   "id": "572fac6d-4b1e-46a3-9386-2cbcc4f39267",
   "metadata": {
    "jp-MarkdownHeadingCollapsed": true,
    "tags": []
   },
   "source": [
    "### model.py"
   ]
  },
  {
   "cell_type": "code",
   "execution_count": 4,
   "id": "ea34a6a0-0d35-4ac5-be23-735d0baea34e",
   "metadata": {},
   "outputs": [],
   "source": [
    "\"\"\"\n",
    "Learning on Sets / Learning with Proteins - ALTEGRAD - Dec 2022\n",
    "\"\"\"\n",
    "\n",
    "import torch\n",
    "import torch.nn as nn"
   ]
  },
  {
   "cell_type": "code",
   "execution_count": 18,
   "id": "3994a668-d4a2-4fe0-b654-ff2f4438abc4",
   "metadata": {},
   "outputs": [],
   "source": [
    "class DeepSets(nn.Module):\n",
    "    def __init__(self, input_dim, embedding_dim, hidden_dim):\n",
    "        super(DeepSets, self).__init__()\n",
    "        self.embedding = nn.Embedding(input_dim, embedding_dim)\n",
    "        self.fc1 = nn.Linear(embedding_dim, hidden_dim)\n",
    "        self.fc2 = nn.Linear(hidden_dim, 1)\n",
    "        self.tanh = nn.Tanh()\n",
    "\n",
    "    def forward(self, x):\n",
    "        \n",
    "        ############## Task 3\n",
    "    \n",
    "        ##################\n",
    "        x = self.embedding(x)\n",
    "        x = self.tanh(self.fc1(x))\n",
    "        x = x.sum(axis=1)\n",
    "        x = self.fc2(x)\n",
    "        ##################\n",
    "        \n",
    "        return x.squeeze()\n",
    "\n",
    "\n",
    "class LSTM(nn.Module):\n",
    "    def __init__(self, input_dim, embedding_dim, hidden_dim):\n",
    "        super(LSTM, self).__init__()\n",
    "\n",
    "        self.embedding = nn.Embedding(input_dim, embedding_dim)\n",
    "        self.lstm = nn.LSTM(embedding_dim, hidden_dim, batch_first=True)\n",
    "        self.fc = nn.Linear(hidden_dim, 1)\n",
    "\n",
    "    def forward(self, x):\n",
    "        \n",
    "        ############## Task 4\n",
    "    \n",
    "        ##################\n",
    "        x = self.embedding(x)\n",
    "        output, _ = self.lstm(x)\n",
    "        x = output[:,-1:,:]\n",
    "        x = self.fc(x)\n",
    "        ##################\n",
    "        \n",
    "        return x.squeeze()"
   ]
  },
  {
   "cell_type": "markdown",
   "id": "070ea9f5-f123-487f-bfaa-029164ab04e0",
   "metadata": {
    "jp-MarkdownHeadingCollapsed": true,
    "tags": []
   },
   "source": [
    "### train.py"
   ]
  },
  {
   "cell_type": "code",
   "execution_count": 8,
   "id": "7f4fe550-f06e-4142-bf19-0d4e982bd576",
   "metadata": {
    "collapsed": true,
    "jupyter": {
     "outputs_hidden": true
    },
    "tags": []
   },
   "outputs": [
    {
     "name": "stderr",
     "output_type": "stream",
     "text": [
      "100%|██████████| 1563/1563 [00:10<00:00, 150.15it/s]\n"
     ]
    },
    {
     "name": "stdout",
     "output_type": "stream",
     "text": [
      "Epoch: 0001 loss_train: 0.8291 time: 10.4142s\n"
     ]
    },
    {
     "name": "stderr",
     "output_type": "stream",
     "text": [
      "100%|██████████| 1563/1563 [00:11<00:00, 137.19it/s]\n"
     ]
    },
    {
     "name": "stdout",
     "output_type": "stream",
     "text": [
      "Epoch: 0002 loss_train: 0.0700 time: 11.4053s\n"
     ]
    },
    {
     "name": "stderr",
     "output_type": "stream",
     "text": [
      "100%|██████████| 1563/1563 [00:10<00:00, 150.34it/s]\n"
     ]
    },
    {
     "name": "stdout",
     "output_type": "stream",
     "text": [
      "Epoch: 0003 loss_train: 0.0479 time: 10.4006s\n"
     ]
    },
    {
     "name": "stderr",
     "output_type": "stream",
     "text": [
      "100%|██████████| 1563/1563 [00:10<00:00, 147.20it/s]\n"
     ]
    },
    {
     "name": "stdout",
     "output_type": "stream",
     "text": [
      "Epoch: 0004 loss_train: 0.0435 time: 10.6253s\n"
     ]
    },
    {
     "name": "stderr",
     "output_type": "stream",
     "text": [
      "100%|██████████| 1563/1563 [00:10<00:00, 147.30it/s]\n"
     ]
    },
    {
     "name": "stdout",
     "output_type": "stream",
     "text": [
      "Epoch: 0005 loss_train: 0.0406 time: 10.6234s\n"
     ]
    },
    {
     "name": "stderr",
     "output_type": "stream",
     "text": [
      "100%|██████████| 1563/1563 [00:09<00:00, 166.10it/s]\n"
     ]
    },
    {
     "name": "stdout",
     "output_type": "stream",
     "text": [
      "Epoch: 0006 loss_train: 0.0341 time: 9.4205s\n"
     ]
    },
    {
     "name": "stderr",
     "output_type": "stream",
     "text": [
      "100%|██████████| 1563/1563 [00:09<00:00, 157.29it/s]\n"
     ]
    },
    {
     "name": "stdout",
     "output_type": "stream",
     "text": [
      "Epoch: 0007 loss_train: 0.0323 time: 9.9473s\n"
     ]
    },
    {
     "name": "stderr",
     "output_type": "stream",
     "text": [
      "100%|██████████| 1563/1563 [00:09<00:00, 157.14it/s]\n"
     ]
    },
    {
     "name": "stdout",
     "output_type": "stream",
     "text": [
      "Epoch: 0008 loss_train: 0.0333 time: 9.9544s\n"
     ]
    },
    {
     "name": "stderr",
     "output_type": "stream",
     "text": [
      "100%|██████████| 1563/1563 [00:08<00:00, 175.76it/s]\n"
     ]
    },
    {
     "name": "stdout",
     "output_type": "stream",
     "text": [
      "Epoch: 0009 loss_train: 0.0306 time: 8.8973s\n"
     ]
    },
    {
     "name": "stderr",
     "output_type": "stream",
     "text": [
      "100%|██████████| 1563/1563 [00:09<00:00, 162.13it/s]\n"
     ]
    },
    {
     "name": "stdout",
     "output_type": "stream",
     "text": [
      "Epoch: 0010 loss_train: 0.0283 time: 9.6484s\n"
     ]
    },
    {
     "name": "stderr",
     "output_type": "stream",
     "text": [
      "100%|██████████| 1563/1563 [00:10<00:00, 150.46it/s]\n"
     ]
    },
    {
     "name": "stdout",
     "output_type": "stream",
     "text": [
      "Epoch: 0011 loss_train: 0.0282 time: 10.3922s\n"
     ]
    },
    {
     "name": "stderr",
     "output_type": "stream",
     "text": [
      "100%|██████████| 1563/1563 [00:09<00:00, 157.78it/s]\n"
     ]
    },
    {
     "name": "stdout",
     "output_type": "stream",
     "text": [
      "Epoch: 0012 loss_train: 0.0286 time: 9.9130s\n"
     ]
    },
    {
     "name": "stderr",
     "output_type": "stream",
     "text": [
      "100%|██████████| 1563/1563 [00:10<00:00, 151.92it/s]\n"
     ]
    },
    {
     "name": "stdout",
     "output_type": "stream",
     "text": [
      "Epoch: 0013 loss_train: 0.0288 time: 10.2990s\n"
     ]
    },
    {
     "name": "stderr",
     "output_type": "stream",
     "text": [
      "100%|██████████| 1563/1563 [00:11<00:00, 141.92it/s]\n"
     ]
    },
    {
     "name": "stdout",
     "output_type": "stream",
     "text": [
      "Epoch: 0014 loss_train: 0.0265 time: 11.0314s\n"
     ]
    },
    {
     "name": "stderr",
     "output_type": "stream",
     "text": [
      "100%|██████████| 1563/1563 [00:10<00:00, 152.20it/s]\n"
     ]
    },
    {
     "name": "stdout",
     "output_type": "stream",
     "text": [
      "Epoch: 0015 loss_train: 0.0294 time: 10.2783s\n"
     ]
    },
    {
     "name": "stderr",
     "output_type": "stream",
     "text": [
      "100%|██████████| 1563/1563 [00:11<00:00, 139.08it/s]\n"
     ]
    },
    {
     "name": "stdout",
     "output_type": "stream",
     "text": [
      "Epoch: 0016 loss_train: 0.0268 time: 11.2453s\n"
     ]
    },
    {
     "name": "stderr",
     "output_type": "stream",
     "text": [
      "100%|██████████| 1563/1563 [00:11<00:00, 132.46it/s]\n"
     ]
    },
    {
     "name": "stdout",
     "output_type": "stream",
     "text": [
      "Epoch: 0017 loss_train: 0.0259 time: 11.8044s\n"
     ]
    },
    {
     "name": "stderr",
     "output_type": "stream",
     "text": [
      "100%|██████████| 1563/1563 [00:11<00:00, 132.74it/s]\n"
     ]
    },
    {
     "name": "stdout",
     "output_type": "stream",
     "text": [
      "Epoch: 0018 loss_train: 0.0267 time: 11.7788s\n"
     ]
    },
    {
     "name": "stderr",
     "output_type": "stream",
     "text": [
      "100%|██████████| 1563/1563 [00:10<00:00, 150.17it/s]\n"
     ]
    },
    {
     "name": "stdout",
     "output_type": "stream",
     "text": [
      "Epoch: 0019 loss_train: 0.0275 time: 10.4288s\n"
     ]
    },
    {
     "name": "stderr",
     "output_type": "stream",
     "text": [
      "100%|██████████| 1563/1563 [00:10<00:00, 154.02it/s]\n"
     ]
    },
    {
     "name": "stdout",
     "output_type": "stream",
     "text": [
      "Epoch: 0020 loss_train: 0.0246 time: 10.1539s\n",
      "Finished training for DeepSets model\n",
      "\n"
     ]
    }
   ],
   "source": [
    "\"\"\"\n",
    "Learning on Sets / Learning with Proteins - ALTEGRAD - Dec 2022\n",
    "\"\"\"\n",
    "\n",
    "import time\n",
    "import numpy as np\n",
    "import torch\n",
    "import torch.optim as optim\n",
    "import torch.nn as nn\n",
    "from tqdm import tqdm\n",
    "\n",
    "# from utils import create_train_dataset\n",
    "# from models import DeepSets, LSTM\n",
    "\n",
    "\n",
    "# Initializes device\n",
    "device = torch.device(\"cuda\") if torch.cuda.is_available() else torch.device(\"cpu\")\n",
    "\n",
    "# Hyperparameters\n",
    "epochs = 20\n",
    "batch_size = 64\n",
    "embedding_dim = 128\n",
    "hidden_dim = 64\n",
    "learning_rate = 0.001\n",
    "\n",
    "# Generates training data\n",
    "X_train, y_train = create_train_dataset()\n",
    "n_train = 100000\n",
    "n_digits = 11\n",
    "\n",
    "# Initializes DeepSets model and optimizer\n",
    "deepsets = DeepSets(n_digits, embedding_dim, hidden_dim).to(device)\n",
    "optimizer = optim.Adam(deepsets.parameters(), lr=learning_rate)\n",
    "loss_function = nn.L1Loss()\n",
    "\n",
    "# Trains the DeepSets model\n",
    "for epoch in range(epochs):\n",
    "    t = time.time()\n",
    "    deepsets.train()\n",
    "     \n",
    "    train_loss = 0\n",
    "    count = 0\n",
    "    idx = np.random.permutation(n_train)\n",
    "    for i in tqdm(range(0, n_train, batch_size)):\n",
    "        ############## Task 5\n",
    "    \n",
    "        ##################\n",
    "        x_batch = torch.LongTensor([X_train[j] for j in idx[i:i+batch_size]]).to(device)\n",
    "        y_batch = torch.LongTensor([y_train[j] for j in idx[i:i+batch_size]]).to(device)\n",
    "        ##################\n",
    "        \n",
    "        optimizer.zero_grad()\n",
    "        output = deepsets(x_batch)\n",
    "        loss = loss_function(output, y_batch)\n",
    "        loss.backward()\n",
    "        optimizer.step()\n",
    "        train_loss += loss.item() * output.size(0)\n",
    "        count += output.size(0)\n",
    "    \n",
    "    print('Epoch: {:04d}'.format(epoch+1),\n",
    "          'loss_train: {:.4f}'.format(train_loss / count),\n",
    "          'time: {:.4f}s'.format(time.time() - t))\n",
    "    time.sleep(0.5)\n",
    "# Stores DeepSets model into disk\n",
    "torch.save({\n",
    "    'state_dict': deepsets.state_dict(),\n",
    "    'optimizer' : optimizer.state_dict(),\n",
    "}, 'model_deepsets.pth.tar')\n",
    "\n",
    "print(\"Finished training for DeepSets model\")\n",
    "print()"
   ]
  },
  {
   "cell_type": "code",
   "execution_count": 21,
   "id": "ef0234fd-9f93-4cf0-bd81-685312247838",
   "metadata": {},
   "outputs": [
    {
     "name": "stderr",
     "output_type": "stream",
     "text": [
      "100%|██████████| 1563/1563 [00:24<00:00, 64.12it/s]\n"
     ]
    },
    {
     "name": "stdout",
     "output_type": "stream",
     "text": [
      "Epoch: 0001 loss_train: 7.0016 time: 24.3860s\n"
     ]
    },
    {
     "name": "stderr",
     "output_type": "stream",
     "text": [
      "100%|██████████| 1563/1563 [00:25<00:00, 61.64it/s]\n"
     ]
    },
    {
     "name": "stdout",
     "output_type": "stream",
     "text": [
      "Epoch: 0002 loss_train: 0.3667 time: 25.3598s\n"
     ]
    },
    {
     "name": "stderr",
     "output_type": "stream",
     "text": [
      "100%|██████████| 1563/1563 [00:28<00:00, 54.83it/s]\n"
     ]
    },
    {
     "name": "stdout",
     "output_type": "stream",
     "text": [
      "Epoch: 0003 loss_train: 0.2288 time: 28.5123s\n"
     ]
    },
    {
     "name": "stderr",
     "output_type": "stream",
     "text": [
      "100%|██████████| 1563/1563 [00:25<00:00, 62.14it/s]\n"
     ]
    },
    {
     "name": "stdout",
     "output_type": "stream",
     "text": [
      "Epoch: 0004 loss_train: 0.1959 time: 25.1559s\n"
     ]
    },
    {
     "name": "stderr",
     "output_type": "stream",
     "text": [
      "100%|██████████| 1563/1563 [00:23<00:00, 66.20it/s]\n"
     ]
    },
    {
     "name": "stdout",
     "output_type": "stream",
     "text": [
      "Epoch: 0005 loss_train: 0.1778 time: 23.6231s\n"
     ]
    },
    {
     "name": "stderr",
     "output_type": "stream",
     "text": [
      "100%|██████████| 1563/1563 [00:24<00:00, 63.14it/s]\n"
     ]
    },
    {
     "name": "stdout",
     "output_type": "stream",
     "text": [
      "Epoch: 0006 loss_train: 0.1657 time: 24.7726s\n"
     ]
    },
    {
     "name": "stderr",
     "output_type": "stream",
     "text": [
      "100%|██████████| 1563/1563 [00:24<00:00, 62.80it/s]\n"
     ]
    },
    {
     "name": "stdout",
     "output_type": "stream",
     "text": [
      "Epoch: 0007 loss_train: 0.1484 time: 24.8905s\n"
     ]
    },
    {
     "name": "stderr",
     "output_type": "stream",
     "text": [
      "100%|██████████| 1563/1563 [00:24<00:00, 63.47it/s]\n"
     ]
    },
    {
     "name": "stdout",
     "output_type": "stream",
     "text": [
      "Epoch: 0008 loss_train: 0.1450 time: 24.6300s\n"
     ]
    },
    {
     "name": "stderr",
     "output_type": "stream",
     "text": [
      "100%|██████████| 1563/1563 [00:26<00:00, 59.66it/s]\n"
     ]
    },
    {
     "name": "stdout",
     "output_type": "stream",
     "text": [
      "Epoch: 0009 loss_train: 0.1368 time: 26.2090s\n"
     ]
    },
    {
     "name": "stderr",
     "output_type": "stream",
     "text": [
      "100%|██████████| 1563/1563 [00:27<00:00, 57.37it/s]\n"
     ]
    },
    {
     "name": "stdout",
     "output_type": "stream",
     "text": [
      "Epoch: 0010 loss_train: 0.1287 time: 27.2497s\n"
     ]
    },
    {
     "name": "stderr",
     "output_type": "stream",
     "text": [
      "100%|██████████| 1563/1563 [00:27<00:00, 57.51it/s]\n"
     ]
    },
    {
     "name": "stdout",
     "output_type": "stream",
     "text": [
      "Epoch: 0011 loss_train: 0.1272 time: 27.1826s\n"
     ]
    },
    {
     "name": "stderr",
     "output_type": "stream",
     "text": [
      "100%|██████████| 1563/1563 [00:24<00:00, 62.73it/s]\n"
     ]
    },
    {
     "name": "stdout",
     "output_type": "stream",
     "text": [
      "Epoch: 0012 loss_train: 0.1243 time: 24.9231s\n"
     ]
    },
    {
     "name": "stderr",
     "output_type": "stream",
     "text": [
      "100%|██████████| 1563/1563 [00:22<00:00, 68.91it/s]\n"
     ]
    },
    {
     "name": "stdout",
     "output_type": "stream",
     "text": [
      "Epoch: 0013 loss_train: 0.1162 time: 22.6873s\n"
     ]
    },
    {
     "name": "stderr",
     "output_type": "stream",
     "text": [
      "100%|██████████| 1563/1563 [00:25<00:00, 62.15it/s]\n"
     ]
    },
    {
     "name": "stdout",
     "output_type": "stream",
     "text": [
      "Epoch: 0014 loss_train: 0.1140 time: 25.1521s\n"
     ]
    },
    {
     "name": "stderr",
     "output_type": "stream",
     "text": [
      "100%|██████████| 1563/1563 [00:26<00:00, 58.61it/s]\n"
     ]
    },
    {
     "name": "stdout",
     "output_type": "stream",
     "text": [
      "Epoch: 0015 loss_train: 0.1126 time: 26.6718s\n"
     ]
    },
    {
     "name": "stderr",
     "output_type": "stream",
     "text": [
      "100%|██████████| 1563/1563 [00:24<00:00, 62.69it/s]\n"
     ]
    },
    {
     "name": "stdout",
     "output_type": "stream",
     "text": [
      "Epoch: 0016 loss_train: 0.1110 time: 24.9384s\n"
     ]
    },
    {
     "name": "stderr",
     "output_type": "stream",
     "text": [
      "100%|██████████| 1563/1563 [00:27<00:00, 56.82it/s]\n"
     ]
    },
    {
     "name": "stdout",
     "output_type": "stream",
     "text": [
      "Epoch: 0017 loss_train: 0.1091 time: 27.5128s\n"
     ]
    },
    {
     "name": "stderr",
     "output_type": "stream",
     "text": [
      "100%|██████████| 1563/1563 [00:26<00:00, 58.41it/s]\n"
     ]
    },
    {
     "name": "stdout",
     "output_type": "stream",
     "text": [
      "Epoch: 0018 loss_train: 0.1039 time: 26.7687s\n"
     ]
    },
    {
     "name": "stderr",
     "output_type": "stream",
     "text": [
      "100%|██████████| 1563/1563 [00:25<00:00, 62.07it/s]\n"
     ]
    },
    {
     "name": "stdout",
     "output_type": "stream",
     "text": [
      "Epoch: 0019 loss_train: 0.1013 time: 25.1926s\n"
     ]
    },
    {
     "name": "stderr",
     "output_type": "stream",
     "text": [
      "100%|██████████| 1563/1563 [00:27<00:00, 57.61it/s]\n"
     ]
    },
    {
     "name": "stdout",
     "output_type": "stream",
     "text": [
      "Epoch: 0020 loss_train: 0.0988 time: 27.1468s\n",
      "Finished training for LSTM model\n"
     ]
    }
   ],
   "source": [
    "# Initializes LSTM model and optimizer\n",
    "lstm = LSTM(n_digits, embedding_dim, hidden_dim).to(device)\n",
    "optimizer = optim.Adam(lstm.parameters(), lr=learning_rate)\n",
    "loss_function = nn.L1Loss()\n",
    "\n",
    "# Trains the LSTM model\n",
    "for epoch in range(epochs):\n",
    "    t = time.time()\n",
    "    lstm.train()\n",
    "     \n",
    "    train_loss = 0\n",
    "    count = 0\n",
    "    idx = np.random.permutation(n_train)\n",
    "    for i in tqdm(range(0, n_train, batch_size)):\n",
    "    \n",
    "        ############## Task 5\n",
    "        \n",
    "        ##################\n",
    "        x_batch = torch.LongTensor([X_train[j] for j in idx[i:i+batch_size]]).to(device)\n",
    "        y_batch = torch.LongTensor([y_train[j] for j in idx[i:i+batch_size]]).to(device)\n",
    "        ##################\n",
    "        \n",
    "        optimizer.zero_grad()\n",
    "        output = lstm(x_batch)\n",
    "        loss = loss_function(output, y_batch)\n",
    "        loss.backward()\n",
    "        optimizer.step()\n",
    "        train_loss += loss.item() * output.size(0)\n",
    "        count += output.size(0)\n",
    "    \n",
    "    print('Epoch: {:04d}'.format(epoch+1),\n",
    "          'loss_train: {:.4f}'.format(train_loss / count),\n",
    "          'time: {:.4f}s'.format(time.time() - t))\n",
    "    time.sleep(0.5)\n",
    "# Stores LSTM model into disk\n",
    "torch.save({\n",
    "    'state_dict': lstm.state_dict(),\n",
    "    'optimizer' : optimizer.state_dict(),\n",
    "}, 'model_lstm.pth.tar')\n",
    "\n",
    "print(\"Finished training for LSTM model\")"
   ]
  },
  {
   "cell_type": "markdown",
   "id": "85995816-a2f4-4895-8649-365468539233",
   "metadata": {
    "tags": []
   },
   "source": [
    "### eval.py"
   ]
  },
  {
   "cell_type": "code",
   "execution_count": 39,
   "id": "4b90d365-226a-411d-b000-341924416433",
   "metadata": {},
   "outputs": [],
   "source": [
    "\"\"\"\n",
    "Learning on Sets / Learning with Proteins - ALTEGRAD - Dec 2022\n",
    "\"\"\"\n",
    "\n",
    "import numpy as np\n",
    "import matplotlib.pyplot as plt\n",
    "from sklearn.metrics import accuracy_score, mean_absolute_error\n",
    "import torch\n",
    "\n",
    "# from utils import create_test_dataset\n",
    "# from models import DeepSets, LSTM\n",
    "\n",
    "# Initializes device\n",
    "device = torch.device(\"cuda\") if torch.cuda.is_available() else torch.device(\"cpu\")\n",
    "\n",
    "# Hyperparameters\n",
    "batch_size = 64\n",
    "embedding_dim = 128\n",
    "hidden_dim = 64\n",
    "\n",
    "# Generates test data\n",
    "X_test, y_test = create_test_dataset()\n",
    "cards = [X_test[i].shape[1] for i in range(len(X_test))]\n",
    "n_samples_per_card = X_test[0].shape[0]\n",
    "n_digits = 11"
   ]
  },
  {
   "cell_type": "code",
   "execution_count": 64,
   "id": "9241cb7e-1c42-49b0-bd7a-2559d9a9b2b5",
   "metadata": {},
   "outputs": [
    {
     "name": "stderr",
     "output_type": "stream",
     "text": [
      "  0%|          | 0/20 [00:00<?, ?it/s]"
     ]
    },
    {
     "name": "stdout",
     "output_type": "stream",
     "text": [
      "Loading DeepSets checkpoint!\n",
      "Loading LSTM checkpoint!\n"
     ]
    },
    {
     "name": "stderr",
     "output_type": "stream",
     "text": [
      "100%|██████████| 20/20 [00:41<00:00,  2.10s/it]\n"
     ]
    }
   ],
   "source": [
    "# Retrieves DeepSets model\n",
    "deepsets = DeepSets(n_digits, embedding_dim, hidden_dim).to(device)\n",
    "print(\"Loading DeepSets checkpoint!\")\n",
    "checkpoint = torch.load('model_deepsets.pth.tar')\n",
    "deepsets.load_state_dict(checkpoint['state_dict'])\n",
    "deepsets.eval()\n",
    "\n",
    "# Retrieves LSTM model\n",
    "lstm = LSTM(n_digits, embedding_dim, hidden_dim).to(device)\n",
    "print(\"Loading LSTM checkpoint!\")\n",
    "checkpoint = torch.load('model_lstm.pth.tar')\n",
    "lstm.load_state_dict(checkpoint['state_dict'])\n",
    "lstm.eval()\n",
    "\n",
    "# Dict to store the results\n",
    "results = {'deepsets': {'acc':[], 'mae':[]}, 'lstm': {'acc':[], 'mae':[]}}\n",
    "\n",
    "for i in tqdm(range(len(cards))):\n",
    "    y_pred_deepsets = list()\n",
    "    y_pred_lstm = list()\n",
    "    for j in range(0, n_samples_per_card, batch_size):\n",
    "        \n",
    "        ############## Task 6\n",
    "    \n",
    "        ##################\n",
    "        x_batch = torch.LongTensor(X_test[i][j:j+batch_size]).to(device)\n",
    "        y_pred_deepsets.append(deepsets(x_batch))\n",
    "        y_pred_lstm.append(lstm(x_batch))\n",
    "        ##################\n",
    "        \n",
    "    y_pred_deepsets = torch.cat(y_pred_deepsets)\n",
    "    y_pred_deepsets = y_pred_deepsets.detach().cpu().numpy()\n",
    "    \n",
    "    acc_deepsets = accuracy_score(y_true=y_test[i],y_pred=np.round(y_pred_deepsets))#your code here\n",
    "    mae_deepsets = mean_absolute_error(y_true=y_test[i],y_pred=y_pred_deepsets)#your code here\n",
    "    results['deepsets']['acc'].append(acc_deepsets)\n",
    "    results['deepsets']['mae'].append(mae_deepsets)\n",
    "    \n",
    "    y_pred_lstm = torch.cat(y_pred_lstm)\n",
    "    y_pred_lstm = y_pred_lstm.detach().cpu().numpy()\n",
    "    \n",
    "    acc_lstm = accuracy_score(y_true=y_test[i],y_pred=np.round(y_pred_lstm))#your code here\n",
    "    mae_lstm = mean_absolute_error(y_true=y_test[i],y_pred=y_pred_lstm)#your code here\n",
    "    results['lstm']['acc'].append(acc_lstm)\n",
    "    results['lstm']['mae'].append(mae_lstm)"
   ]
  },
  {
   "cell_type": "code",
   "execution_count": 69,
   "id": "35cc94f4-2b2d-45ca-8739-5bd95c9edf54",
   "metadata": {},
   "outputs": [
    {
     "data": {
      "text/plain": [
       "[<matplotlib.lines.Line2D at 0x7fea6094deb0>]"
      ]
     },
     "execution_count": 69,
     "metadata": {},
     "output_type": "execute_result"
    },
    {
     "data": {
      "image/png": "[encoded data removed]",
      "text/plain": [
       "<Figure size 432x288 with 1 Axes>"
      ]
     },
     "metadata": {
      "needs_background": "light"
     },
     "output_type": "display_data"
    }
   ],
   "source": [
    "############## Task 7\n",
    "plt.plot(cards, results['deepsets']['acc'], label='deepsets')\n",
    "plt.plot(cards, results['lstm']['acc'], label='lstm')"
   ]
  },
  {
   "cell_type": "code",
   "execution_count": 70,
   "id": "8b0adb2c-3212-4642-86d2-a602383d053f",
   "metadata": {},
   "outputs": [
    {
     "data": {
      "text/plain": [
       "[<matplotlib.lines.Line2D at 0x7fea6092c580>]"
      ]
     },
     "execution_count": 70,
     "metadata": {},
     "output_type": "execute_result"
    },
    {
     "data": {
      "image/png": "[encoded data removed]",
      "text/plain": [
       "<Figure size 432x288 with 1 Axes>"
      ]
     },
     "metadata": {
      "needs_background": "light"
     },
     "output_type": "display_data"
    }
   ],
   "source": [
    "plt.plot(cards, results['deepsets']['mae'], label='deepsets')\n",
    "plt.plot(cards, results['lstm']['mae'], label='lstm')\n",
    "##################"
   ]
  }
 ],
 "metadata": {
  "kernelspec": {
   "display_name": "d2l:Python",
   "language": "python",
   "name": "conda-env-d2l-py"
  },
  "language_info": {
   "codemirror_mode": {
    "name": "ipython",
    "version": 3
   },
   "file_extension": ".py",
   "mimetype": "text/x-python",
   "name": "python",
   "nbconvert_exporter": "python",
   "pygments_lexer": "ipython3",
   "version": "3.9.12"
  }
 },
 "nbformat": 4,
 "nbformat_minor": 5
}
