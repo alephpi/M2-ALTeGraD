{
 "cells": [
  {
   "cell_type": "markdown",
   "metadata": {
    "id": "DlAfI8mCWAf3"
   },
   "source": [
    "<center><h2>ALTeGraD 2022<br>Lab Session 2: Transfer learning for NLP</h2> 27 / 10 / 2022<br> M. Kamal Eddine, H. Abdine<br><br>\n",
    "\n",
    "\n",
    "<b>Student name:</b> Sicheng MAO\n",
    "\n",
    "</center>\n",
    "\n",
    "<br><br>\n",
    "In this lab we will:\n",
    "* Implement and pretrain a language model with transformer architecture.\n",
    "* Use the pretrained model (transfer learning) to perform a sentiment analysis task which consists of classifying some books reviews into positive and negative ones.\n",
    "* Compare the performance of the pretrained model to a model trained from scratch.\n",
    " <br>\n",
    " \n",
    "<b>The deadline for this lab is November 14, 2022 11:59 PM.</b> More details about the submission and the architecture for this lab can be found in the handout PDF."
   ]
  },
  {
   "cell_type": "code",
   "execution_count": 1,
   "metadata": {
    "id": "IqukuIe0Rb_c"
   },
   "outputs": [],
   "source": [
    "import math\n",
    "\n",
    "import torch\n",
    "import torch.nn as nn\n",
    "from torch.nn.utils.rnn import pad_sequence\n",
    "\n",
    "device = torch.device(\"cuda\" if torch.cuda.is_available() else \"cpu\")"
   ]
  },
  {
   "cell_type": "markdown",
   "metadata": {
    "id": "5FF6fjkqgN39"
   },
   "source": [
    "### The Model"
   ]
  },
  {
   "cell_type": "code",
   "execution_count": 2,
   "metadata": {
    "id": "p0cj9WkSFQwl"
   },
   "outputs": [],
   "source": [
    "class TransformerModel(nn.Module):\n",
    "    def __init__(self, ntoken, nhead, nhid, nlayers, dropout=0.5):\n",
    "        super(TransformerModel, self).__init__()\n",
    "        '''\n",
    "        ntokens: the size of vocabulary\n",
    "        nhid: the hidden dimension of the model.\n",
    "        We assume that embedding_dim = nhid\n",
    "        nlayers: the number of nn.TransformerEncoderLayer in nn.TransformerEncoder\n",
    "        nhead: the number of heads in the multiheadattention models\n",
    "        dropout: the dropout value\n",
    "         '''\n",
    "        self.model_type = \"Transformer\"\n",
    "        self.encoder = nn.Embedding(num_embeddings = ntoken, embedding_dim = nhid) # fill me, nhid = the dim_embed\n",
    "        self.pos_encoder = PositionalEncoding(nhid=nhid) #fill me, the PositionalEncoding class is implemented in the next cell\n",
    "        encoder_layers = nn.TransformerEncoderLayer(d_model = nhid, nhead = nhead, dim_feedforward = nhid, dropout = dropout) #fill me we assume nhid = d_model = dim_feedforward\n",
    "        self.transformer_encoder = nn.TransformerEncoder(encoder_layers, num_layers = nlayers) #fill me\n",
    "        self.nhid = nhid\n",
    "        self.init_weights()\n",
    "\n",
    "    def generate_square_subsequent_mask(self, sz):\n",
    "        mask = (torch.triu(torch.ones(sz, sz)) == 1).transpose(0, 1)\n",
    "        mask = (\n",
    "            mask.float()\n",
    "            .masked_fill(mask == 0, float(\"-inf\"))\n",
    "            .masked_fill(mask == 1, float(0.0))\n",
    "        )\n",
    "        return mask\n",
    "\n",
    "    def init_weights(self):\n",
    "        initrange = 0.1\n",
    "        self.encoder.weight.data.uniform_(-initrange, initrange)\n",
    "\n",
    "    def forward(self, src, src_mask):\n",
    "        '''\n",
    "        Args:\n",
    "            src: Tensor, shape [seq_len, batch_size]\n",
    "            src_mask: Tensor, shape [seq_len, seq_len]\n",
    "\n",
    "        Returns:\n",
    "            output Tensor of shape [seq_len, batch_size, ntoken]\n",
    "        '''\n",
    "        src = self.encoder(src) * math.sqrt(self.nhid)\n",
    "        src = self.pos_encoder(src)\n",
    "        output = self.transformer_encoder(src, src_mask)\n",
    "        return output\n",
    "\n",
    "\n",
    "class ClassificationHead(nn.Module):\n",
    "    def __init__(self, nhid, nclasses):\n",
    "        super(ClassificationHead, self).__init__()\n",
    "        self.decoder = nn.Linear(nhid, nclasses)\n",
    "        self.init_weights()\n",
    "\n",
    "    def init_weights(self):\n",
    "        initrange = 0.1\n",
    "        self.decoder.bias.data.zero_()\n",
    "        self.decoder.weight.data.uniform_(-initrange, initrange)\n",
    "\n",
    "    def forward(self, src):\n",
    "        output = self.decoder(src)\n",
    "        return output\n",
    "    \n",
    "class Model(nn.Module):\n",
    "    def __init__(self, ntoken, nhead, nhid, nlayers, nclasses, dropout=0.5):\n",
    "        super(Model, self).__init__()\n",
    "        self.base = TransformerModel(ntoken, nhead, nhid, nlayers)\n",
    "        self.classifier = ClassificationHead(nhid, nclasses)\n",
    "\n",
    "    def forward(self, src, src_mask):\n",
    "        # base model\n",
    "        x = self.base(src, src_mask)\n",
    "        # classifier model\n",
    "        output = self.classifier(x)\n",
    "        return output"
   ]
  },
  {
   "cell_type": "code",
   "execution_count": 3,
   "metadata": {
    "id": "kt2QQohaFZry"
   },
   "outputs": [],
   "source": [
    "class PositionalEncoding(nn.Module):\n",
    "    def __init__(self, nhid, dropout=0.1, max_len=5000):\n",
    "        super(PositionalEncoding, self).__init__()\n",
    "        self.dropout = nn.Dropout(p=dropout)\n",
    "\n",
    "        pe = torch.zeros(max_len, nhid)\n",
    "        position = torch.arange(0, max_len, dtype=torch.float).unsqueeze(1)\n",
    "        div_term = torch.exp(\n",
    "            torch.arange(0, nhid, 2).float() * (-math.log(10000.0) / nhid)\n",
    "        )\n",
    "        pe[:, 0::2] = torch.sin(position * div_term)\n",
    "        pe[:, 1::2] = torch.cos(position * div_term)\n",
    "        pe = pe.unsqueeze(0).transpose(0, 1)\n",
    "        self.register_buffer(\"pe\", pe)\n",
    "\n",
    "    def forward(self, x):\n",
    "        x = x + self.pe[: x.size(0), :]\n",
    "        return self.dropout(x)"
   ]
  },
  {
   "cell_type": "markdown",
   "metadata": {
    "id": "SfEYHJx2JW6l"
   },
   "source": [
    "Let's verify if our model works, by applying one inference step"
   ]
  },
  {
   "cell_type": "code",
   "execution_count": 4,
   "metadata": {
    "id": "rhb2gkUhJMR0"
   },
   "outputs": [
    {
     "name": "stdout",
     "output_type": "stream",
     "text": [
      "torch.Size([1, 6, 100])\n"
     ]
    }
   ],
   "source": [
    "ntokens = 100 # the size of vocabulary\n",
    "nhid = 200  # hidden dimension\n",
    "nlayers = 4  # the number of nn.TransformerEncoderLayer in nn.TransformerEncoder\n",
    "nhead = 2  # the number of heads in the multiheadattention models\n",
    "dropout = 0  # the dropout value\n",
    "\n",
    "model = Model(ntokens, nhead, nhid, nlayers, ntokens, dropout).to(device)\n",
    "dummy_input = torch.tensor([[2, 6, 2, 5, 43, 21]]).to(device)\n",
    "src_mask = model.base.generate_square_subsequent_mask(1).to(device)\n",
    "out = model.forward(dummy_input, src_mask)\n",
    "\n",
    "print(out.shape) # is it the right shape?"
   ]
  },
  {
   "cell_type": "code",
   "execution_count": 5,
   "metadata": {},
   "outputs": [
    {
     "name": "stdout",
     "output_type": "stream",
     "text": [
      "tensor([ 7.7726e-01, -7.6292e-02, -1.2685e+00, -3.5095e-01, -4.1754e-01,\n",
      "        -1.1887e+00,  1.0150e+00, -6.5744e-01, -5.8180e-01,  1.2944e+00,\n",
      "        -9.2230e-01,  8.8065e-01, -1.6903e-01,  4.5981e-01, -1.2313e-01,\n",
      "         1.2334e+00, -6.2709e-01, -2.5453e-01,  6.2963e-01,  5.9225e-01,\n",
      "        -7.7812e-01,  5.6613e-01, -8.0319e-01, -1.2383e-01, -3.2269e-01,\n",
      "         7.3426e-01, -1.5138e-01, -1.7155e-01,  1.8996e+00, -3.8490e-01,\n",
      "         4.5052e-01,  1.9164e+00,  1.0448e+00,  5.1992e-01, -3.4465e-02,\n",
      "        -7.8867e-01, -6.8286e-01,  1.7966e-01, -3.5500e-01,  2.4892e-01,\n",
      "         3.0567e-01,  1.4219e+00,  1.0234e+00,  7.6970e-01, -2.1147e+00,\n",
      "        -9.5815e-01, -1.4741e-01, -8.4626e-01, -1.5250e+00,  4.5100e-01,\n",
      "        -1.8448e+00, -3.5148e-01, -1.2033e-01, -1.4216e-01,  1.8383e+00,\n",
      "         1.2043e+00,  3.1168e-01, -2.6185e-01, -1.6088e+00,  9.5662e-02,\n",
      "        -6.6540e-01, -4.3063e-01,  5.6258e-01, -5.4205e-01, -5.5232e-01,\n",
      "         1.1274e+00, -4.1083e-01,  3.4178e-01, -1.7486e-01, -4.8558e-01,\n",
      "         9.6443e-01,  2.2801e-01,  4.3606e-01,  3.7510e-01,  2.4885e-01,\n",
      "         1.5633e+00, -3.7617e-01,  2.7891e-01, -2.6368e-01,  1.8513e+00,\n",
      "         1.2311e+00, -2.1549e-01,  3.2577e-02, -9.6309e-01,  5.3763e-01,\n",
      "        -3.3211e-01, -9.5080e-01,  1.6229e-01, -8.8541e-01, -1.8107e-01,\n",
      "         2.0410e+00,  1.3541e+00,  1.6899e+00,  8.6571e-01, -2.8654e-01,\n",
      "        -9.7044e-01, -9.9802e-04,  1.9961e-01,  8.6491e-01,  1.3320e-01],\n",
      "       grad_fn=<SelectBackward>)\n"
     ]
    }
   ],
   "source": [
    "print(out[0][0])"
   ]
  },
  {
   "cell_type": "markdown",
   "metadata": {
    "id": "i74NN897Fcit"
   },
   "source": [
    "## Vocabulary and Tokenization"
   ]
  },
  {
   "cell_type": "code",
   "execution_count": 6,
   "metadata": {
    "id": "5qjd26ghWuff"
   },
   "outputs": [
    {
     "name": "stdout",
     "output_type": "stream",
     "text": [
      "--2022-11-03 22:35:00--  https://raw.githubusercontent.com/moussaKam/transfer_learning_transformers/main/dict.txt\n",
      "Resolving raw.githubusercontent.com (raw.githubusercontent.com)... 185.199.109.133, 185.199.108.133, 185.199.111.133, ...\n",
      "Connecting to raw.githubusercontent.com (raw.githubusercontent.com)|185.199.109.133|:443... connected.\n",
      "HTTP request sent, awaiting response... 200 OK\n",
      "Length: 577587 (564K) [text/plain]\n",
      "Saving to: 'dict.txt'\n",
      "\n",
      "dict.txt            100%[===================>] 564.05K  --.-KB/s    in 0.05s   \n",
      "\n",
      "2022-11-03 22:35:00 (11.6 MB/s) - 'dict.txt' saved [577587/577587]\n",
      "\n",
      "▁d 1\n",
      "es 1\n",
      "▁l 1\n",
      "en 1\n",
      "on 1\n"
     ]
    }
   ],
   "source": [
    "!wget https://raw.githubusercontent.com/moussaKam/transfer_learning_transformers/main/dict.txt\n",
    "!head -5 dict.txt"
   ]
  },
  {
   "cell_type": "code",
   "execution_count": 7,
   "metadata": {
    "id": "vFdH_-JeFbGA"
   },
   "outputs": [
    {
     "name": "stdout",
     "output_type": "stream",
     "text": [
      "▁trop\n"
     ]
    }
   ],
   "source": [
    "path_vocab = \"dict.txt\"\n",
    "token2ind = {\"<sos>\": 0, \"<pad>\": 1, \"<eos>\": 2, \"<oov>\": 3} # the 4 first indices are reserved to special tokens\n",
    "with open(path_vocab, \"r\") as f:\n",
    "    for idx, line in enumerate(f):\n",
    "        word = line.split()[0].strip()\n",
    "        token2ind[word] = idx + 4 #fill me\n",
    "\n",
    "ind2token = {idx: word for (word, idx) in token2ind.items()} #fill me\n",
    "\n",
    "print(ind2token[1111])"
   ]
  },
  {
   "cell_type": "markdown",
   "metadata": {
    "id": "XOExGODajN8p"
   },
   "source": [
    "### Data Loader\n"
   ]
  },
  {
   "cell_type": "code",
   "execution_count": 35,
   "metadata": {},
   "outputs": [
    {
     "data": {
      "text/plain": [
       "3"
      ]
     },
     "execution_count": 35,
     "metadata": {},
     "output_type": "execute_result"
    }
   ],
   "source": [
    "token2ind.get('=',3)"
   ]
  },
  {
   "cell_type": "code",
   "execution_count": 36,
   "metadata": {
    "id": "Y0jN-Ar9i5Q1"
   },
   "outputs": [],
   "source": [
    "import numpy\n",
    "import torch\n",
    "from torch.nn.utils.rnn import pad_sequence\n",
    "from torch.utils.data import DataLoader, Dataset\n",
    "\n",
    "\n",
    "class Dataset(Dataset):\n",
    "    def __init__(\n",
    "        self,\n",
    "        path_documents,\n",
    "        path_labels=None,\n",
    "        token2ind={},\n",
    "        max_len=512,\n",
    "        task=\"language_modeling\",\n",
    "    ):\n",
    "        self.task = task\n",
    "        self.max_len = max_len\n",
    "        self.token2ind = token2ind\n",
    "        self.documents = []\n",
    "        self.labels = []\n",
    "        with open(path_documents, \"r\") as f1:\n",
    "            for line in f1:\n",
    "                self.documents.append(line.strip())\n",
    "        if task == \"classification\":\n",
    "            with open(path_labels, \"r\") as f1:\n",
    "                for line in f1:\n",
    "                    self.labels.append(int(line.strip()))\n",
    "            assert len(self.labels) == len(self.documents)\n",
    "\n",
    "    def __len__(self):\n",
    "        return len(self.documents)\n",
    "\n",
    "    def __getitem__(self, index):\n",
    "        sequence = self.documents[index].split()\n",
    "        if len(sequence) > self.max_len - 1:\n",
    "            sequence = sequence[: self.max_len - 1]\n",
    "        # <oov> index is 3\n",
    "        source_sequence =  [token2ind.get(token, 3) for token in sequence]#fill me (constract the input sequence using token2ind, sequence and special tokens)\n",
    "        if self.task == \"language_modeling\":\n",
    "            target = source_sequence[1:]\n",
    "            target.append(self.token2ind[\"<eos>\"])\n",
    "        elif self.task == \"classification\":\n",
    "            target = [self.labels[index]]\n",
    "        sample = {\n",
    "            \"source_sequence\": torch.tensor(source_sequence),\n",
    "            \"target\": torch.tensor(target),\n",
    "        }\n",
    "        return sample\n",
    "\n",
    "\n",
    "def MyCollator(batch):\n",
    "    source_sequences = pad_sequence(\n",
    "        #we use padding to match the length of the sequences in the same batch\n",
    "        [sample[\"source_sequence\"] for sample in batch], padding_value=token2ind[\"<pad>\"]\n",
    "    )\n",
    "    target = pad_sequence(\n",
    "        [sample[\"target\"] for sample in batch], padding_value=token2ind[\"<pad>\"]\n",
    "    )\n",
    "    return source_sequences, target.reshape(-1)\n",
    "\n",
    "\n",
    "def get_loader(\n",
    "    path_documents,\n",
    "    path_labels=None,\n",
    "    token2ind={},\n",
    "    max_len=512,\n",
    "    batch_size=32,\n",
    "    task=\"language_modeling\",\n",
    "):\n",
    "    dataset = Dataset(\n",
    "        path_documents,\n",
    "        path_labels=path_labels,\n",
    "        token2ind=token2ind,\n",
    "        max_len=512,\n",
    "        task=task,\n",
    "    )\n",
    "    data_loader = DataLoader(\n",
    "        dataset=dataset,\n",
    "        batch_size=batch_size,\n",
    "        shuffle=True,\n",
    "        collate_fn=MyCollator,\n",
    "        pin_memory=True,\n",
    "        drop_last=True,\n",
    "    )\n",
    "    return data_loader"
   ]
  },
  {
   "cell_type": "markdown",
   "metadata": {
    "id": "uTns4lHrjUTa"
   },
   "source": [
    "## The Training"
   ]
  },
  {
   "cell_type": "code",
   "execution_count": 42,
   "metadata": {},
   "outputs": [],
   "source": [
    "from tqdm import tqdm"
   ]
  },
  {
   "cell_type": "code",
   "execution_count": 51,
   "metadata": {
    "id": "4_jwosiLjRsS"
   },
   "outputs": [],
   "source": [
    "def train(\n",
    "    path_data_train,\n",
    "    path_labels_train=None,\n",
    "    path_data_valid=None,\n",
    "    save_interval=-1,\n",
    "    log_interval=5,\n",
    "    task=\"language_modeling\",\n",
    "    batch_size=32,\n",
    "):\n",
    "    model.train()\n",
    "    total_loss = 0.0\n",
    "    ntokens = len(token2ind)\n",
    "    data_loader = get_loader(\n",
    "        path_data_train,\n",
    "        path_labels_train,\n",
    "        token2ind,\n",
    "        task=task,\n",
    "        batch_size=batch_size,\n",
    "    )\n",
    "    losses = []\n",
    "    \n",
    "    for idx, data in tqdm(enumerate(data_loader), total=len(data_loader)): #step 1\n",
    "        optimizer.zero_grad()\n",
    "        src_mask = model.base.generate_square_subsequent_mask(data[0].size(0)).to(\n",
    "            device\n",
    "        )\n",
    "        input = data[0].to(device)\n",
    "        # print(input.shape)\n",
    "        output = model(input, src_mask) #step 2\n",
    "        # print(output.shape)\n",
    "        if task == 'classification':\n",
    "            #last vector only\n",
    "            # output = torch.argmax#fill me \n",
    "            pass\n",
    "        output = output.view(-1, output.shape[-1])\n",
    "        target = data[1] #fill me\n",
    "        target = target.to(device)\n",
    "        loss = criterion(output, target) #fill me, Cross entropy check next cells\n",
    "        #fill me step 3\n",
    "        loss.backward()\n",
    "        torch.nn.utils.clip_grad_norm_(model.parameters(), 0.5) # prevent exploding gradient \n",
    "        #fill me step 4\n",
    "        optimizer.step()\n",
    "        total_loss += loss.item() \n",
    "        if idx % log_interval == 0 and idx > 0:\n",
    "            cur_loss = total_loss / log_interval\n",
    "            print(\n",
    "                \"| epoch {:3d} | {:5d}/{:5d} steps | \"\n",
    "                \"loss {:5.5f} | ppl {:8.3f}\".format(\n",
    "                    epoch, idx, len(data_loader), cur_loss, math.exp(cur_loss),\n",
    "                )\n",
    "            )\n",
    "            losses.append(cur_loss)\n",
    "            total_loss = 0\n",
    "    return losses"
   ]
  },
  {
   "cell_type": "code",
   "execution_count": 52,
   "metadata": {
    "id": "pgf6BDB9jUr6"
   },
   "outputs": [],
   "source": [
    "ntokens = len(token2ind) #fill me # the size of vocabulary\n",
    "nhid = 200  # the dimension of the feedforward network model in nn.TransformerEncoder\n",
    "nlayers = 4  # the number of nn.TransformerEncoderLayer in nn.TransformerEncoder\n",
    "nhead = 2  # the number of heads in the multiheadattention models\n",
    "dropout = 0  # the dropout value\n",
    "\n",
    "nclasses = 2 # for classification task only\n",
    "\n",
    "#notice here that the nclasses argument = ntokens (for language modeling task, we predict the next token)\n",
    "model = Model(ntokens, nhead, nhid, nlayers, ntokens, dropout).to(device)"
   ]
  },
  {
   "cell_type": "code",
   "execution_count": 53,
   "metadata": {
    "id": "u-OLy4KIkDwf"
   },
   "outputs": [],
   "source": [
    "# optimization paramerters\n",
    "\n",
    "criterion = nn.CrossEntropyLoss(ignore_index=token2ind['<pad>'])\n",
    "lr = 0.0003  # learning rate\n",
    "optimizer = torch.optim.Adam(model.parameters(), lr=lr)"
   ]
  },
  {
   "cell_type": "code",
   "execution_count": 12,
   "metadata": {
    "id": "Bwh3n9xZQy4e"
   },
   "outputs": [
    {
     "name": "stdout",
     "output_type": "stream",
     "text": [
      "--2022-11-03 22:35:11--  https://raw.githubusercontent.com/moussaKam/transfer_learning_transformers/main/pretraining_subset.txt\n",
      "Resolving raw.githubusercontent.com (raw.githubusercontent.com)... 185.199.110.133, 185.199.109.133, 185.199.108.133, ...\n",
      "Connecting to raw.githubusercontent.com (raw.githubusercontent.com)|185.199.110.133|:443... connected.\n",
      "HTTP request sent, awaiting response... 200 OK\n",
      "Length: 10146460 (9.7M) [text/plain]\n",
      "Saving to: 'pretraining_subset.txt'\n",
      "\n",
      "pretraining_subset. 100%[===================>]   9.68M  --.-KB/s    in 0.1s    \n",
      "\n",
      "2022-11-03 22:35:11 (86.3 MB/s) - 'pretraining_subset.txt' saved [10146460/10146460]\n",
      "\n"
     ]
    }
   ],
   "source": [
    "!wget https://raw.githubusercontent.com/moussaKam/transfer_learning_transformers/main/pretraining_subset.txt\n",
    "path_data_train = \"pretraining_subset.txt\""
   ]
  },
  {
   "cell_type": "code",
   "execution_count": 54,
   "metadata": {},
   "outputs": [
    {
     "data": {
      "text/plain": [
       "50001"
      ]
     },
     "execution_count": 54,
     "metadata": {},
     "output_type": "execute_result"
    }
   ],
   "source": [
    "len(token2ind)"
   ]
  },
  {
   "cell_type": "code",
   "execution_count": null,
   "metadata": {
    "id": "0m11g4ScjZaR"
   },
   "outputs": [
    {
     "name": "stderr",
     "output_type": "stream",
     "text": [
      "  0%|          | 5/3125 [00:11<1:54:55,  2.21s/it]\n"
     ]
    },
    {
     "ename": "KeyboardInterrupt",
     "evalue": "",
     "output_type": "error",
     "traceback": [
      "\u001b[0;31m---------------------------------------------------------------------------\u001b[0m",
      "\u001b[0;31mKeyboardInterrupt\u001b[0m                         Traceback (most recent call last)",
      "Input \u001b[0;32mIn [55]\u001b[0m, in \u001b[0;36m<cell line: 4>\u001b[0;34m()\u001b[0m\n\u001b[1;32m      3\u001b[0m epochs \u001b[38;5;241m=\u001b[39m \u001b[38;5;241m2\u001b[39m\n\u001b[1;32m      4\u001b[0m \u001b[38;5;28;01mfor\u001b[39;00m epoch \u001b[38;5;129;01min\u001b[39;00m \u001b[38;5;28mrange\u001b[39m(\u001b[38;5;241m1\u001b[39m, epochs \u001b[38;5;241m+\u001b[39m \u001b[38;5;241m1\u001b[39m): \u001b[38;5;66;03m#5\u001b[39;00m\n\u001b[0;32m----> 5\u001b[0m     \u001b[43mtrain\u001b[49m\u001b[43m(\u001b[49m\n\u001b[1;32m      6\u001b[0m \u001b[43m        \u001b[49m\u001b[43mpath_data_train\u001b[49m\u001b[43m,\u001b[49m\n\u001b[1;32m      7\u001b[0m \u001b[43m        \u001b[49m\u001b[43msave_interval\u001b[49m\u001b[38;5;241;43m=\u001b[39;49m\u001b[38;5;241;43m-\u001b[39;49m\u001b[38;5;241;43m1\u001b[39;49m\u001b[43m,\u001b[49m\n\u001b[1;32m      8\u001b[0m \u001b[43m        \u001b[49m\u001b[43mtask\u001b[49m\u001b[38;5;241;43m=\u001b[39;49m\u001b[38;5;124;43m'\u001b[39;49m\u001b[38;5;124;43mlanguage_modeling\u001b[39;49m\u001b[38;5;124;43m'\u001b[39;49m\u001b[43m,\u001b[49m\u001b[43m \u001b[49m\u001b[38;5;66;43;03m# fill me\u001b[39;49;00m\n\u001b[1;32m      9\u001b[0m \u001b[43m        \u001b[49m\u001b[43mbatch_size\u001b[49m\u001b[38;5;241;43m=\u001b[39;49m\u001b[38;5;241;43m16\u001b[39;49m\u001b[43m,\u001b[49m\n\u001b[1;32m     10\u001b[0m \u001b[43m        \u001b[49m\u001b[43mlog_interval\u001b[49m\u001b[38;5;241;43m=\u001b[39;49m\u001b[43mlog_interval\u001b[49m\u001b[43m,\u001b[49m\n\u001b[1;32m     11\u001b[0m \u001b[43m    \u001b[49m\u001b[43m)\u001b[49m\n",
      "Input \u001b[0;32mIn [51]\u001b[0m, in \u001b[0;36mtrain\u001b[0;34m(path_data_train, path_labels_train, path_data_valid, save_interval, log_interval, task, batch_size)\u001b[0m\n\u001b[1;32m     38\u001b[0m loss \u001b[38;5;241m=\u001b[39m criterion(output, target) \u001b[38;5;66;03m#fill me, Cross entropy check next cells\u001b[39;00m\n\u001b[1;32m     39\u001b[0m \u001b[38;5;66;03m#fill me step 3\u001b[39;00m\n\u001b[0;32m---> 40\u001b[0m \u001b[43mloss\u001b[49m\u001b[38;5;241;43m.\u001b[39;49m\u001b[43mbackward\u001b[49m\u001b[43m(\u001b[49m\u001b[43m)\u001b[49m\n\u001b[1;32m     41\u001b[0m torch\u001b[38;5;241m.\u001b[39mnn\u001b[38;5;241m.\u001b[39mutils\u001b[38;5;241m.\u001b[39mclip_grad_norm_(model\u001b[38;5;241m.\u001b[39mparameters(), \u001b[38;5;241m0.5\u001b[39m) \u001b[38;5;66;03m# prevent exploding gradient \u001b[39;00m\n\u001b[1;32m     42\u001b[0m \u001b[38;5;66;03m#fill me step 4\u001b[39;00m\n",
      "File \u001b[0;32m~/.conda/envs/d2l/lib/python3.9/site-packages/torch/tensor.py:245\u001b[0m, in \u001b[0;36mTensor.backward\u001b[0;34m(self, gradient, retain_graph, create_graph, inputs)\u001b[0m\n\u001b[1;32m    236\u001b[0m \u001b[38;5;28;01mif\u001b[39;00m has_torch_function_unary(\u001b[38;5;28mself\u001b[39m):\n\u001b[1;32m    237\u001b[0m     \u001b[38;5;28;01mreturn\u001b[39;00m handle_torch_function(\n\u001b[1;32m    238\u001b[0m         Tensor\u001b[38;5;241m.\u001b[39mbackward,\n\u001b[1;32m    239\u001b[0m         (\u001b[38;5;28mself\u001b[39m,),\n\u001b[0;32m   (...)\u001b[0m\n\u001b[1;32m    243\u001b[0m         create_graph\u001b[38;5;241m=\u001b[39mcreate_graph,\n\u001b[1;32m    244\u001b[0m         inputs\u001b[38;5;241m=\u001b[39minputs)\n\u001b[0;32m--> 245\u001b[0m \u001b[43mtorch\u001b[49m\u001b[38;5;241;43m.\u001b[39;49m\u001b[43mautograd\u001b[49m\u001b[38;5;241;43m.\u001b[39;49m\u001b[43mbackward\u001b[49m\u001b[43m(\u001b[49m\u001b[38;5;28;43mself\u001b[39;49m\u001b[43m,\u001b[49m\u001b[43m \u001b[49m\u001b[43mgradient\u001b[49m\u001b[43m,\u001b[49m\u001b[43m \u001b[49m\u001b[43mretain_graph\u001b[49m\u001b[43m,\u001b[49m\u001b[43m \u001b[49m\u001b[43mcreate_graph\u001b[49m\u001b[43m,\u001b[49m\u001b[43m \u001b[49m\u001b[43minputs\u001b[49m\u001b[38;5;241;43m=\u001b[39;49m\u001b[43minputs\u001b[49m\u001b[43m)\u001b[49m\n",
      "File \u001b[0;32m~/.conda/envs/d2l/lib/python3.9/site-packages/torch/autograd/__init__.py:145\u001b[0m, in \u001b[0;36mbackward\u001b[0;34m(tensors, grad_tensors, retain_graph, create_graph, grad_variables, inputs)\u001b[0m\n\u001b[1;32m    142\u001b[0m \u001b[38;5;28;01mif\u001b[39;00m retain_graph \u001b[38;5;129;01mis\u001b[39;00m \u001b[38;5;28;01mNone\u001b[39;00m:\n\u001b[1;32m    143\u001b[0m     retain_graph \u001b[38;5;241m=\u001b[39m create_graph\n\u001b[0;32m--> 145\u001b[0m \u001b[43mVariable\u001b[49m\u001b[38;5;241;43m.\u001b[39;49m\u001b[43m_execution_engine\u001b[49m\u001b[38;5;241;43m.\u001b[39;49m\u001b[43mrun_backward\u001b[49m\u001b[43m(\u001b[49m\n\u001b[1;32m    146\u001b[0m \u001b[43m    \u001b[49m\u001b[43mtensors\u001b[49m\u001b[43m,\u001b[49m\u001b[43m \u001b[49m\u001b[43mgrad_tensors_\u001b[49m\u001b[43m,\u001b[49m\u001b[43m \u001b[49m\u001b[43mretain_graph\u001b[49m\u001b[43m,\u001b[49m\u001b[43m \u001b[49m\u001b[43mcreate_graph\u001b[49m\u001b[43m,\u001b[49m\u001b[43m \u001b[49m\u001b[43minputs\u001b[49m\u001b[43m,\u001b[49m\n\u001b[1;32m    147\u001b[0m \u001b[43m    \u001b[49m\u001b[43mallow_unreachable\u001b[49m\u001b[38;5;241;43m=\u001b[39;49m\u001b[38;5;28;43;01mTrue\u001b[39;49;00m\u001b[43m,\u001b[49m\u001b[43m \u001b[49m\u001b[43maccumulate_grad\u001b[49m\u001b[38;5;241;43m=\u001b[39;49m\u001b[38;5;28;43;01mTrue\u001b[39;49;00m\u001b[43m)\u001b[49m\n",
      "\u001b[0;31mKeyboardInterrupt\u001b[0m: "
     ]
    }
   ],
   "source": [
    "#pretraining on a tiny subset\n",
    "log_interval = 500\n",
    "epochs = 2\n",
    "for epoch in range(1, epochs + 1): #5\n",
    "    train(\n",
    "        path_data_train,\n",
    "        save_interval=-1,\n",
    "        task='language_modeling', # fill me\n",
    "        batch_size=16,\n",
    "        log_interval=log_interval,\n",
    "    )"
   ]
  },
  {
   "cell_type": "markdown",
   "metadata": {
    "id": "MeOM1dOvkO4e"
   },
   "source": [
    "## Text Generation\n"
   ]
  },
  {
   "cell_type": "code",
   "execution_count": null,
   "metadata": {
    "id": "-BcBC6FSkMH3"
   },
   "outputs": [],
   "source": [
    "!wget https://raw.githubusercontent.com/moussaKam/transfer_learning_transformers/main/pretrained_model_4layers.pt\n",
    "\n",
    "model = Model(ntokens, nhead, nhid, nlayers, ntokens).to(device) \n",
    "\n",
    "#load the checkpoint\n",
    "checkpoint = torch.load('pretrained_model_4layers.pt') \n",
    "#load state dict\n",
    "model.load_state_dict(checkpoint['model_state_dict']) "
   ]
  },
  {
   "cell_type": "code",
   "execution_count": null,
   "metadata": {
    "id": "tBRRVsWqlIoQ"
   },
   "outputs": [],
   "source": [
    "# !pip install sentencepiece   # uncomment this if you are using google colab\n",
    "!wget https://raw.githubusercontent.com/moussaKam/transfer_learning_transformers/main/sentencepiece.french.model\n",
    "\n",
    "import sentencepiece as spm\n",
    "\n",
    "s = spm.SentencePieceProcessor(model_file='sentencepiece.french.model') #load sentencepiece model\n",
    "\n",
    "#examples\n",
    "encoded = s.encode_as_pieces(\"Bonjour les amis!\")\n",
    "decoded = s.decode_pieces(encoded)\n",
    "print(encoded)\n",
    "print(decoded)"
   ]
  },
  {
   "cell_type": "code",
   "execution_count": null,
   "metadata": {
    "id": "TtLlV05pkQI3"
   },
   "outputs": [],
   "source": [
    "def infer_next_token(sent):\n",
    "    model.eval()\n",
    "    sent_pieces = s.encode_as_pieces(sent)\n",
    "    source = [token2ind['<sos>']] + [token2ind[el] for el in sent_pieces] # list of tokens\n",
    "    source = torch.tensor(source).to(device)\n",
    "    source = source.reshape(-1, 1)\n",
    "    src_mask = model.base.generate_square_subsequent_mask(source.size(0)).to(device)\n",
    "    out = model(source, src_mask)\n",
    "    next_token_ind =  #fill me\n",
    "    return next_token_ind, out\n",
    "    \n",
    "def infer_next_tokens(sent, max_len=50):\n",
    "    # to be implemented"
   ]
  },
  {
   "cell_type": "code",
   "execution_count": null,
   "metadata": {
    "id": "f83Nn5nSly4v"
   },
   "outputs": [],
   "source": [
    "sent = \"Bonjour les\"\n",
    "infer_next_tokens(sent)"
   ]
  },
  {
   "cell_type": "markdown",
   "metadata": {
    "id": "Lp7mjVzomoZ3"
   },
   "source": [
    "### Supervised task"
   ]
  },
  {
   "cell_type": "code",
   "execution_count": null,
   "metadata": {
    "id": "0K1BZsblmEmx"
   },
   "outputs": [],
   "source": [
    "!wget https://raw.githubusercontent.com/moussaKam/transfer_learning_transformers/main/cls-books/train.review.spm\n",
    "!wget https://raw.githubusercontent.com/moussaKam/transfer_learning_transformers/main/cls-books/train.label\n",
    "!wget https://raw.githubusercontent.com/moussaKam/transfer_learning_transformers/main/cls-books/test.review.spm\n",
    "!wget https://raw.githubusercontent.com/moussaKam/transfer_learning_transformers/main/cls-books/test.label\n",
    "\n",
    "path_data_train = \"train.review.spm\"\n",
    "path_labels_train = \"train.label\"\n",
    "\n",
    "path_data_valid = \"test.review.spm\"\n",
    "path_labels_valid = \"test.label\""
   ]
  },
  {
   "cell_type": "code",
   "execution_count": null,
   "metadata": {
    "id": "_MLfvjiom2SL"
   },
   "outputs": [],
   "source": [
    "# a function to evaluate the validation accuracy of the model.\n",
    "def evaluate_accuracy(data_loader):\n",
    "    #to be implemented"
   ]
  },
  {
   "cell_type": "code",
   "execution_count": null,
   "metadata": {
    "id": "qzmx7T7xoa6v"
   },
   "outputs": [],
   "source": [
    "#save the base model to be loaded later in the fine-tuning phase\n",
    "torch.save({\"model_state_dict\": model.base.state_dict(),}, \"pretrained_model_4layers_no_class_head.pt\")"
   ]
  },
  {
   "cell_type": "code",
   "execution_count": null,
   "metadata": {
    "id": "i-xclMCpnVpw"
   },
   "outputs": [],
   "source": [
    "from_scratch_settings = [True, False]\n",
    "\n",
    "from_scratch_valid_acc = []\n",
    "pretrained_valid_acc = []\n",
    "lr = 0.0001\n",
    "\n",
    "for from_scratch in from_scratch_settings:\n",
    "    model = Model(ntokens, nhead, nhid, nlayers, 2, dropout).to(device)\n",
    "    criterion = nn.CrossEntropyLoss()\n",
    "    optimizer = torch.optim.Adam(model.parameters(), lr=lr)\n",
    "    if not from_scratch:\n",
    "        print(\"=====PRETRAINED MODEL======\")\n",
    "        #load checkpoint\n",
    "        checkpoint = torch.load(\"pretrained_model_4layers_no_class_head.pt\")\n",
    "        #load state dict\n",
    "        model.base.load_state_dict(checkpoint['model_state_dict'])\n",
    "    else:\n",
    "        print(\"=====Trainig FROM SCRATCH======\")\n",
    "    epochs = 15\n",
    "    for epoch in range(1, epochs + 1):\n",
    "        train(\n",
    "            path_data_train,\n",
    "            path_labels_train,\n",
    "            save_interval=-1,\n",
    "            task='classification',\n",
    "            batch_size=8,\n",
    "            log_interval=50,\n",
    "        )\n",
    "        acc = evaluate_accuracy(\n",
    "            get_loader(\n",
    "                path_data_valid,\n",
    "                path_labels_valid,\n",
    "                token2ind=token2ind,\n",
    "                batch_size=20,\n",
    "                task='classification',\n",
    "            )\n",
    "        )\n",
    "        if from_scratch:\n",
    "            from_scratch_valid_acc.append(acc)\n",
    "        else:\n",
    "            pretrained_valid_acc.append(acc)\n",
    "    print()"
   ]
  },
  {
   "cell_type": "code",
   "execution_count": null,
   "metadata": {
    "id": "RCpBIdTHojm6"
   },
   "outputs": [],
   "source": [
    "#Visualize the accuracy"
   ]
  }
 ],
 "metadata": {
  "accelerator": "GPU",
  "colab": {
   "collapsed_sections": [],
   "name": "ALTEGRAD_2020_transfer_learning.ipynb",
   "provenance": []
  },
  "kernelspec": {
   "display_name": "d2l:Python",
   "language": "python",
   "name": "conda-env-d2l-py"
  },
  "language_info": {
   "codemirror_mode": {
    "name": "ipython",
    "version": 3
   },
   "file_extension": ".py",
   "mimetype": "text/x-python",
   "name": "python",
   "nbconvert_exporter": "python",
   "pygments_lexer": "ipython3",
   "version": "3.9.12"
  },
  "vscode": {
   "interpreter": {
    "hash": "1f3cfdeab8dd8f9900bd16266619de191cf0f5e09365d74b1fba1714dce58066"
   }
  }
 },
 "nbformat": 4,
 "nbformat_minor": 4
}
