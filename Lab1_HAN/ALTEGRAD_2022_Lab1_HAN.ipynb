{
 "cells": [
  {
   "cell_type": "markdown",
   "metadata": {
    "id": "MuVouapRmjEW"
   },
   "source": [
    "<center><h2>ALTeGraD 2022<br>Lab Session 1: HAN</h2><h3>Hierarchical Attention Network Using GRU</h3> 27 / 10 / 2022<br> M. Kamal Eddine, H. Abdine<br><br>\n",
    "\n",
    "\n",
    "<b>Student name:</b> Sicheng MAO\n",
    "\n",
    "\n",
    "</center>\n",
    "In this lab, you will get familiar with recurrent neural networks (RNNs), self-attention, and the HAN architecture <b>(Yang et al. 2016)</b> using PyTorch. In this architecture, sentence embeddings are first individually produced, and a document embedding is then computed from the sentence embeddings.<br>\n",
    "<b>The deadline for this lab is November 14, 2022 11:59 PM.</b> More details about the submission and the architecture for this lab can be found in the handout PDF.\n"
   ]
  },
  {
   "cell_type": "markdown",
   "metadata": {
    "id": "xJaSJaIP1xRy"
   },
   "source": [
    "### = = = = =  Attention Layer = = = = =\n",
    "In this section, you will fill the gaps in the code to implement the self-attention layer. This layer will be used later to define the HAN architecture. The basic idea behind attention is that rather than considering the last annotation $h_T$ as a summary of the entire sequence, which is prone to information loss, the annotations at <i>all</i> time steps are used.\n",
    "The self-attention mechanism computes a weighted sum of the annotations, where the weights are determined by trainable parameters. Refer to <b>section 2.2</b> in the handout for the theoretical part, it will be needed to finish the first task.\n",
    "\n",
    "#### <b>Task 1:</b>"
   ]
  },
  {
   "cell_type": "code",
   "execution_count": 1,
   "metadata": {
    "id": "yoM7H0KQncpF"
   },
   "outputs": [],
   "source": [
    "import torch\n",
    "from torch import nn\n",
    "from torch.utils.data import DataLoader"
   ]
  },
  {
   "cell_type": "code",
   "execution_count": 2,
   "metadata": {
    "id": "yoM7H0KQncpF"
   },
   "outputs": [],
   "source": [
    "class AttentionWithContext(nn.Module):\n",
    "    \"\"\"\n",
    "    Follows the work of Yang et al. [https://www.cs.cmu.edu/~diyiy/docs/naacl16.pdf]\n",
    "    \"Hierarchical Attention Networks for Document Classification\"\n",
    "    by using a context vector to assist the attention\n",
    "    # Input shape\n",
    "        3D tensor with shape: `(samples, steps, features)`.\n",
    "    # Output shape\n",
    "        2D tensor with shape: `(samples, features)`.\n",
    "    \"\"\"\n",
    "\n",
    "    def __init__(self, input_shape, return_coefficients=False, bias=True):\n",
    "        super(AttentionWithContext, self).__init__()\n",
    "        self.return_coefficients = return_coefficients\n",
    "\n",
    "        self.W = nn.Linear(input_shape, input_shape, bias=bias)\n",
    "        self.tanh = nn.Tanh()\n",
    "        self.u = nn.Linear(input_shape, 1, bias=False)\n",
    "\n",
    "        self.init_weights()\n",
    "\n",
    "    def init_weights(self):\n",
    "        initrange = 0.1\n",
    "        self.W.weight.data.uniform_(-initrange, initrange)\n",
    "        self.W.bias.data.uniform_(-initrange, initrange)\n",
    "        self.u.weight.data.uniform_(-initrange, initrange)\n",
    "\n",
    "    def generate_square_subsequent_mask(self, sz):\n",
    "        # do not pass the mask to the next layers\n",
    "        # torch.triu return the upper triangle part of matrix\n",
    "        mask = (torch.triu(torch.ones(sz, sz)) == 1).transpose(0, 1)\n",
    "        # () are used for line breaking, alternatively use \\ explicitly.\n",
    "        mask = (\n",
    "            mask.float()\n",
    "            .masked_fill(mask == 0, float(\"-inf\"))\n",
    "            .masked_fill(mask == 1, float(0.0))\n",
    "        )\n",
    "        # can be replaced by\n",
    "        # mask = torch.triu(torch.ones(sz,sz)).transpose(0,1)\n",
    "        # mask = mask.masked_fill(mask==0, float(\"-inf\"))..masked_fill(mask == 1, float(0.0))\n",
    "        return mask\n",
    "\n",
    "    def forward(self, x, mask=None):\n",
    "        # compute uit = W . x  where x represents ht\n",
    "        uit = self.W(x)  # fill the gap\n",
    "        uit = self.tanh(uit)\n",
    "        ait = self.u(uit)\n",
    "        a = torch.exp(ait)\n",
    "\n",
    "        # apply mask after the exp. will be re-normalized next\n",
    "        if mask is not None:\n",
    "            a = a*mask.double()\n",
    "\n",
    "        # in some cases especially in the early stages of training the sum may be almost zero\n",
    "        # and this results in NaN's. A workaround is to add a very small positive number ε to the sum.\n",
    "        eps = 1e-9\n",
    "        a = a / (torch.sum(a, axis=1, keepdim=True) + eps)\n",
    "        weighted_input = a * x  # compute the attentional vector\n",
    "        if self.return_coefficients:\n",
    "            return weighted_input.sum(axis=1), a  # [attentional vector, coefficients] ### use torch.sum to compute s\n",
    "        else:\n",
    "            return weighted_input.sum(axis=1)  # attentional vector only ###"
   ]
  },
  {
   "cell_type": "markdown",
   "metadata": {
    "id": "DgTP6GrOHlss"
   },
   "source": [
    "### = = = = = Parameters = = = = =\n",
    "In this section, we define the parameters to use in our training. Such as data path, the embedding dimention <b>d</b>, the GRU layer dimensionality <b>n_units</b>, etc..<br>\n",
    "The parameter <b>device</b> is used to train the model on GPU if it is available. for this purpose, if you are using Google Colab, switch your runtime to a GPU runtime to train the model with a maximum speed.<br>\n",
    "<b>Bonus question:</b> What is the purpose of the parameter <i>my_patience</i>?"
   ]
  },
  {
   "cell_type": "code",
   "execution_count": 3,
   "metadata": {
    "id": "czsVjxgYnczb"
   },
   "outputs": [],
   "source": [
    "import sys\n",
    "import json\n",
    "import operator\n",
    "import numpy as np\n",
    "\n",
    "path_root = ''\n",
    "path_to_data = path_root + 'data/'\n",
    "\n",
    "d = 30 # dimensionality of word embeddings\n",
    "n_units = 50 # RNN layer dimensionality\n",
    "drop_rate = 0.5 # dropout\n",
    "mfw_idx = 2 # index of the most frequent words in the dictionary \n",
    "            # 0 is for the special padding token\n",
    "            # 1 is for the special out-of-vocabulary token\n",
    "\n",
    "padding_idx = 0\n",
    "oov_idx = 1\n",
    "batch_size = 64\n",
    "nb_epochs = 15\n",
    "my_patience = 2 # for early stopping strategy\n",
    "device = torch.device(\"cuda\" if torch.cuda.is_available() else \"cpu\")"
   ]
  },
  {
   "cell_type": "markdown",
   "metadata": {
    "id": "K8Vot_C7Hlst"
   },
   "source": [
    "### = = = = = Data Loading = = = = =\n",
    "In this section we will use first <b>wget</b> to download the data the we will load it using numpy in the first cell. While in the second cell, we will use these data to define our Pytorch data loader. Note that the data is already preprocessed, tokenized and padded.<br><br>\n",
    "<b>Note: if you are running your notebook on Windows or on MacOS, <i>wget</i> will probably not work if you did not install it manually. In this case, use the provided link to download the data and change the <i>path_to_data</i> in the <i>Parameters</i> section accordingly. Otherwise, you will face no problem on Ubuntu and Google Colab.</b>\n",
    "\n",
    "#### <b>Task 2.1:</b>"
   ]
  },
  {
   "cell_type": "code",
   "execution_count": 4,
   "metadata": {
    "id": "UD6hRh0OHlst"
   },
   "outputs": [],
   "source": [
    "# !wget -c \"https://onedrive.live.com/download?cid=AE69638675180117&resid=AE69638675180117%2199289&authkey=AHgxt3xmgG0Fu5A\" -O \"data.zip\"\n",
    "# !unzip data.zip\n",
    "\n",
    "my_docs_array_train = np.load(path_to_data + 'docs_train.npy')\n",
    "my_docs_array_test = np.load(path_to_data + 'docs_test.npy')\n",
    "\n",
    "my_labels_array_train = np.load(path_to_data + 'labels_train.npy')\n",
    "my_labels_array_test = np.load(path_to_data + 'labels_test.npy')\n",
    "\n",
    "# load dictionary of word indexes (sorted by decreasing frequency across the corpus)\n",
    "with open(path_to_data + 'word_to_index.json', 'r') as my_file:\n",
    "    word_to_index = json.load(my_file)\n",
    "\n",
    "# invert mapping\n",
    "index_to_word = {index: word for (word, index) in word_to_index.items()} ### fill the gap (use a dict comprehension) ###\n",
    "input_size = my_docs_array_train.shape"
   ]
  },
  {
   "cell_type": "code",
   "execution_count": 5,
   "metadata": {
    "id": "DpsCvmaiJfZc"
   },
   "outputs": [],
   "source": [
    "import numpy\n",
    "from torch.utils.data import Dataset\n",
    "\n",
    "class Dataset_(Dataset):\n",
    "    def __init__(self, x, y):\n",
    "        self.documents = x\n",
    "        self.labels = y\n",
    "\n",
    "    def __len__(self):\n",
    "        return len(self.documents)\n",
    "\n",
    "    def __getitem__(self, index):\n",
    "        document = self.documents[index]\n",
    "        label = self.labels[index] \n",
    "        sample = {\n",
    "            \"document\": torch.tensor(document),\n",
    "            \"label\": torch.tensor(label),\n",
    "            }\n",
    "        return sample\n",
    "\n",
    "\n",
    "def get_loader(x, y, batch_size=32):\n",
    "    dataset = Dataset_(x, y)\n",
    "    data_loader = DataLoader(dataset=dataset,\n",
    "                            batch_size=batch_size,\n",
    "                            shuffle=True,\n",
    "                            pin_memory=True,\n",
    "                            drop_last=True,\n",
    "                            )\n",
    "    return data_loader"
   ]
  },
  {
   "cell_type": "markdown",
   "metadata": {
    "id": "6rzqEGOdHlst"
   },
   "source": [
    "### = = = = = Defining Architecture = = = = =\n",
    "In this section, we define the HAN architecture. We start with <i>AttentionBiGRU</i> module in order to define the sentence encoder (check Figure 3 in the handout). Then, we define the <i>TimeDistributed</i> module to allow us to forward our input (batch of document) as to the sentence encoder as <b>batch of sentences</b>, where each sentence in the document will be considered as a time step. This module also reshape the output to a batch of timesteps representations per document. Finally we define the <b>HAN</b> architecture using <i>TimeDistributed</i>, <i>AttentionWithContext</i> and <i>GRU</i>.\n",
    "\n",
    "#### <b>Task 2.2:</b>"
   ]
  },
  {
   "cell_type": "code",
   "execution_count": 6,
   "metadata": {},
   "outputs": [
    {
     "data": {
      "text/plain": [
       "torch.nn.modules.rnn.GRU"
      ]
     },
     "execution_count": 6,
     "metadata": {},
     "output_type": "execute_result"
    }
   ],
   "source": [
    "nn.GRU"
   ]
  },
  {
   "cell_type": "code",
   "execution_count": 7,
   "metadata": {
    "id": "AMj9j1_pHlst"
   },
   "outputs": [],
   "source": [
    "class AttentionBiGRU(nn.Module):\n",
    "    def __init__(self, input_shape, n_units, index_to_word, dropout=0):\n",
    "        super(AttentionBiGRU, self).__init__()\n",
    "        self.embedding = nn.Embedding(len(index_to_word)+2,  # vocab size\n",
    "                                      d,  # dimensionality of embedding space\n",
    "                                      padding_idx=0)\n",
    "        self.dropout = nn.Dropout(drop_rate)\n",
    "        self.gru = nn.GRU(input_size=d,\n",
    "                          hidden_size=n_units,\n",
    "                          num_layers=1,\n",
    "                          bias=True,\n",
    "                          batch_first=True,\n",
    "                          bidirectional=True)\n",
    "        self.attention = AttentionWithContext(2 * n_units,   # the input shape for the attention layer == output shape of GRU\n",
    "                                              return_coefficients=True)\n",
    "\n",
    "    def forward(self, sent_ints):\n",
    "        sent_wv = self.embedding(sent_ints)\n",
    "        sent_wv_dr = self.dropout(sent_wv)\n",
    "        sent_wa, _ = self.gru(sent_wv_dr)  # fill the gap # RNN layer\n",
    "        sent_att_vec, word_att_coeffs = self.attention(sent_wa)  # attentional vector for the sent\n",
    "        sent_att_vec_dr = self.dropout(sent_att_vec)\n",
    "        return sent_att_vec_dr, word_att_coeffs\n",
    "\n",
    "\n",
    "class TimeDistributed(nn.Module):\n",
    "    def __init__(self, module, batch_first=False):\n",
    "        super(TimeDistributed, self).__init__()\n",
    "        self.module = module\n",
    "        self.batch_first = batch_first\n",
    "\n",
    "    def forward(self, x):\n",
    "        if len(x.size()) <= 2:\n",
    "            return self.module(x)\n",
    "        # Squash samples and timesteps into a single axis\n",
    "        x_reshape = x.contiguous().view(-1, x.size(-1))  # (samples * timesteps, input_size) (448, 30)\n",
    "        sent_att_vec_dr, word_att_coeffs = self.module(x_reshape)\n",
    "        # We have to reshape the output\n",
    "        if self.batch_first:\n",
    "            sent_att_vec_dr = sent_att_vec_dr.contiguous().view(x.size(0), -1, sent_att_vec_dr.size(-1))  # (samples, timesteps, output_size)\n",
    "            word_att_coeffs = word_att_coeffs.contiguous().view(x.size(0), -1, word_att_coeffs.size(-1))  # (samples, timesteps, output_size)\n",
    "        else:\n",
    "            sent_att_vec_dr = sent_att_vec_dr.view(-1, x.size(1), sent_att_vec_dr.size(-1))  # (timesteps, samples, output_size)\n",
    "            word_att_coeffs = word_att_coeffs.view(-1, x.size(1), word_att_coeffs.size(-1))  # (timesteps, samples, output_size)\n",
    "        return sent_att_vec_dr, word_att_coeffs\n",
    "\n",
    "\n",
    "class HAN(nn.Module):\n",
    "    def __init__(self, input_shape, n_units, index_to_word, dropout=0):\n",
    "        super(HAN, self).__init__()\n",
    "        self.encoder = AttentionBiGRU(input_shape, n_units, index_to_word, dropout)\n",
    "        self.timeDistributed = TimeDistributed(self.encoder, True)\n",
    "        self.dropout = nn.Dropout(drop_rate)\n",
    "        self.gru = nn.GRU(input_size=2 * n_units,  # the input shape of GRU layer\n",
    "                          hidden_size=n_units,\n",
    "                          num_layers=1,\n",
    "                          bias=True,\n",
    "                          batch_first=True,\n",
    "                          bidirectional=True)\n",
    "        self.attention = AttentionWithContext(2 * n_units,  # fill the gap # the input shape of between-sentence attention layer\n",
    "                                              return_coefficients=True)\n",
    "        self.lin_out = nn.Linear(2 * n_units,  # fill the gap # the input size of the last linear layer\n",
    "                                 1)\n",
    "        self.preds = nn.Sigmoid()\n",
    "\n",
    "    def forward(self, doc_ints):\n",
    "        sent_att_vecs_dr, word_att_coeffs = self.timeDistributed(doc_ints) # get sentence representation\n",
    "        doc_sa, _ = self.gru(sent_att_vecs_dr)\n",
    "        doc_att_vec, sent_att_coeffs = self.attention(doc_sa)\n",
    "        doc_att_vec_dr = self.dropout(doc_att_vec)\n",
    "        doc_att_vec_dr = self.lin_out(doc_att_vec_dr)\n",
    "        return self.preds(doc_att_vec_dr), word_att_coeffs, sent_att_coeffs\n"
   ]
  },
  {
   "cell_type": "markdown",
   "metadata": {
    "id": "sgreR5AcHlst"
   },
   "source": [
    "### = = = = = Training = = = = =\n",
    "In this section, we have two code cells. In the first one, we define our evaluation function to compute the training and validation accuracies. While in the second one, we define our model, loss and optimizer and train the model over <i>nb_epochs</i>.<br>\n",
    "<b>Bonus task:</b> use <a href=\"https://pytorch.org/tutorials/recipes/recipes/tensorboard_with_pytorch.html\" target=\"_blank\">tensorboard</a> to visualize the loss and the validation accuray during the training.\n",
    "\n",
    "#### <b>Task 2.3:</b>"
   ]
  },
  {
   "cell_type": "code",
   "execution_count": 8,
   "metadata": {
    "id": "ztF2Lkie-C25"
   },
   "outputs": [],
   "source": [
    "def evaluate_accuracy(data_loader, verbose=True):\n",
    "    model.eval()\n",
    "    total_loss = 0.0\n",
    "    ncorrect = ntotal = 0\n",
    "    with torch.no_grad():\n",
    "        for idx, data in enumerate(data_loader):\n",
    "            # inference\n",
    "            output = model(data[\"document\"].to(device))[0]\n",
    "            output = output[:, -1]  # only last vector\n",
    "            # total number of examples\n",
    "            ntotal += output.shape[0]\n",
    "            # number of correct predictions\n",
    "            predictions = torch.round(output)\n",
    "            ncorrect += torch.sum(data['label'].to(device) == predictions)  # number of correct prediction - hint: use torch.sum \n",
    "        acc = ncorrect.item() / ntotal\n",
    "        if verbose:\n",
    "          print(\"validation accuracy: {:3.2f}\".format(acc*100))\n",
    "        return acc"
   ]
  },
  {
   "cell_type": "code",
   "execution_count": 9,
   "metadata": {
    "id": "RRYiKhZEEidb"
   },
   "outputs": [],
   "source": [
    "from tqdm import tqdm"
   ]
  },
  {
   "cell_type": "code",
   "execution_count": 10,
   "metadata": {},
   "outputs": [
    {
     "data": {
      "text/plain": [
       "(7, 30)"
      ]
     },
     "execution_count": 10,
     "metadata": {},
     "output_type": "execute_result"
    }
   ],
   "source": [
    "my_docs_array_train[0].shape"
   ]
  },
  {
   "cell_type": "code",
   "execution_count": 11,
   "metadata": {},
   "outputs": [
    {
     "data": {
      "text/plain": [
       "(25000, 7, 30)"
      ]
     },
     "execution_count": 11,
     "metadata": {},
     "output_type": "execute_result"
    }
   ],
   "source": [
    "input_size"
   ]
  },
  {
   "cell_type": "code",
   "execution_count": 12,
   "metadata": {
    "id": "RRYiKhZEEidb"
   },
   "outputs": [
    {
     "name": "stderr",
     "output_type": "stream",
     "text": [
      "Epoch 1: 100%|██████████| 390/390 [00:11<00:00, 35.16batch/s, accuracy=58.6, loss=0.663]\n"
     ]
    },
    {
     "name": "stdout",
     "output_type": "stream",
     "text": [
      "===> Epoch 1 Complete: Avg. Loss: 0.6627, Validation Accuracy: 52.22%\n",
      "Validation accuracy improved, saving model...\n",
      "\n"
     ]
    },
    {
     "name": "stderr",
     "output_type": "stream",
     "text": [
      "Epoch 2: 100%|██████████| 390/390 [00:10<00:00, 36.39batch/s, accuracy=70.4, loss=0.569]\n"
     ]
    },
    {
     "name": "stdout",
     "output_type": "stream",
     "text": [
      "===> Epoch 2 Complete: Avg. Loss: 0.5686, Validation Accuracy: 51.01%\n"
     ]
    },
    {
     "name": "stderr",
     "output_type": "stream",
     "text": [
      "Epoch 3: 100%|██████████| 390/390 [00:10<00:00, 36.17batch/s, accuracy=75.9, loss=0.498]\n"
     ]
    },
    {
     "name": "stdout",
     "output_type": "stream",
     "text": [
      "===> Epoch 3 Complete: Avg. Loss: 0.4980, Validation Accuracy: 54.53%\n",
      "Validation accuracy improved, saving model...\n",
      "\n"
     ]
    },
    {
     "name": "stderr",
     "output_type": "stream",
     "text": [
      "Epoch 4: 100%|██████████| 390/390 [00:10<00:00, 36.08batch/s, accuracy=79.1, loss=0.452]\n"
     ]
    },
    {
     "name": "stdout",
     "output_type": "stream",
     "text": [
      "===> Epoch 4 Complete: Avg. Loss: 0.4520, Validation Accuracy: 57.42%\n",
      "Validation accuracy improved, saving model...\n",
      "\n"
     ]
    },
    {
     "name": "stderr",
     "output_type": "stream",
     "text": [
      "Epoch 5: 100%|██████████| 390/390 [00:11<00:00, 35.36batch/s, accuracy=81, loss=0.419]  \n"
     ]
    },
    {
     "name": "stdout",
     "output_type": "stream",
     "text": [
      "===> Epoch 5 Complete: Avg. Loss: 0.4185, Validation Accuracy: 53.98%\n"
     ]
    },
    {
     "name": "stderr",
     "output_type": "stream",
     "text": [
      "Epoch 6: 100%|██████████| 390/390 [00:10<00:00, 35.61batch/s, accuracy=82.4, loss=0.393]\n"
     ]
    },
    {
     "name": "stdout",
     "output_type": "stream",
     "text": [
      "===> Epoch 6 Complete: Avg. Loss: 0.3934, Validation Accuracy: 56.66%\n",
      "Validation accuracy did not improve for 2 epochs, stopping training...\n"
     ]
    },
    {
     "name": "stderr",
     "output_type": "stream",
     "text": [
      "Epoch 7: 100%|██████████| 390/390 [00:10<00:00, 35.72batch/s, accuracy=83.5, loss=0.373]\n"
     ]
    },
    {
     "name": "stdout",
     "output_type": "stream",
     "text": [
      "===> Epoch 7 Complete: Avg. Loss: 0.3729, Validation Accuracy: 59.17%\n",
      "Validation accuracy improved, saving model...\n",
      "\n"
     ]
    },
    {
     "name": "stderr",
     "output_type": "stream",
     "text": [
      "Epoch 8: 100%|██████████| 390/390 [00:10<00:00, 35.50batch/s, accuracy=84.4, loss=0.358]\n"
     ]
    },
    {
     "name": "stdout",
     "output_type": "stream",
     "text": [
      "===> Epoch 8 Complete: Avg. Loss: 0.3580, Validation Accuracy: 59.54%\n",
      "Validation accuracy improved, saving model...\n",
      "\n"
     ]
    },
    {
     "name": "stderr",
     "output_type": "stream",
     "text": [
      "Epoch 9: 100%|██████████| 390/390 [00:11<00:00, 35.43batch/s, accuracy=85.4, loss=0.338]\n"
     ]
    },
    {
     "name": "stdout",
     "output_type": "stream",
     "text": [
      "===> Epoch 9 Complete: Avg. Loss: 0.3378, Validation Accuracy: 59.36%\n"
     ]
    },
    {
     "name": "stderr",
     "output_type": "stream",
     "text": [
      "Epoch 10: 100%|██████████| 390/390 [00:10<00:00, 35.58batch/s, accuracy=85.8, loss=0.325]\n"
     ]
    },
    {
     "name": "stdout",
     "output_type": "stream",
     "text": [
      "===> Epoch 10 Complete: Avg. Loss: 0.3253, Validation Accuracy: 57.92%\n",
      "Validation accuracy did not improve for 2 epochs, stopping training...\n"
     ]
    },
    {
     "name": "stderr",
     "output_type": "stream",
     "text": [
      "Epoch 11: 100%|██████████| 390/390 [00:11<00:00, 35.33batch/s, accuracy=86.9, loss=0.313]\n"
     ]
    },
    {
     "name": "stdout",
     "output_type": "stream",
     "text": [
      "===> Epoch 11 Complete: Avg. Loss: 0.3135, Validation Accuracy: 53.95%\n"
     ]
    },
    {
     "name": "stderr",
     "output_type": "stream",
     "text": [
      "Epoch 12: 100%|██████████| 390/390 [00:11<00:00, 35.04batch/s, accuracy=87.5, loss=0.298]\n"
     ]
    },
    {
     "name": "stdout",
     "output_type": "stream",
     "text": [
      "===> Epoch 12 Complete: Avg. Loss: 0.2983, Validation Accuracy: 58.41%\n"
     ]
    },
    {
     "name": "stderr",
     "output_type": "stream",
     "text": [
      "Epoch 13: 100%|██████████| 390/390 [00:11<00:00, 34.82batch/s, accuracy=88, loss=0.286]  \n"
     ]
    },
    {
     "name": "stdout",
     "output_type": "stream",
     "text": [
      "===> Epoch 13 Complete: Avg. Loss: 0.2855, Validation Accuracy: 55.21%\n"
     ]
    },
    {
     "name": "stderr",
     "output_type": "stream",
     "text": [
      "Epoch 14: 100%|██████████| 390/390 [00:11<00:00, 34.80batch/s, accuracy=88.7, loss=0.274]\n"
     ]
    },
    {
     "name": "stdout",
     "output_type": "stream",
     "text": [
      "===> Epoch 14 Complete: Avg. Loss: 0.2742, Validation Accuracy: 50.31%\n"
     ]
    },
    {
     "name": "stderr",
     "output_type": "stream",
     "text": [
      "Epoch 15: 100%|██████████| 390/390 [00:11<00:00, 34.71batch/s, accuracy=89.1, loss=0.266]\n"
     ]
    },
    {
     "name": "stdout",
     "output_type": "stream",
     "text": [
      "===> Epoch 15 Complete: Avg. Loss: 0.2657, Validation Accuracy: 51.43%\n",
      "Loading best checkpoint...\n",
      "done.\n"
     ]
    }
   ],
   "source": [
    "model = HAN(input_size, n_units, index_to_word).to(device)\n",
    "model = model.double()\n",
    "lr = 0.001  # learning rate\n",
    "criterion = torch.nn.BCELoss()  # fill the gap, use Binary cross entropy from torch.nn: https://pytorch.org/docs/stable/nn.html#loss-functions\n",
    "optimizer = torch.optim.Adam(model.parameters(), lr=lr)\n",
    "\n",
    "def train(x_train=my_docs_array_train,\n",
    "          y_train=my_labels_array_train,\n",
    "          x_test=my_docs_array_test,\n",
    "          y_test=my_labels_array_test,\n",
    "          word_dict=index_to_word,\n",
    "          batch_size=batch_size):\n",
    "\n",
    "    train_data = get_loader(x_train, y_train, batch_size)\n",
    "    test_data = get_loader(my_docs_array_test, my_labels_array_test, batch_size)\n",
    "\n",
    "    best_validation_acc = 0.0\n",
    "    p = 0  # patience\n",
    "\n",
    "    for epoch in range(1, nb_epochs + 1):\n",
    "        losses = []\n",
    "        accuracies = []\n",
    "        with tqdm(train_data, unit=\"batch\") as tepoch:\n",
    "            for idx, data in enumerate(tepoch):\n",
    "                tepoch.set_description(f\"Epoch {epoch}\")\n",
    "                model.train()\n",
    "                optimizer.zero_grad()\n",
    "                input = data['document'].to(device)\n",
    "                # print(input.shape)\n",
    "                # break\n",
    "                label = data['label'].to(device)\n",
    "                label = label.double()\n",
    "                output = model.forward(input)[0]\n",
    "                output = output[:, -1]\n",
    "                loss = criterion(output, label)  # compute the loss\n",
    "                loss.backward()\n",
    "                torch.nn.utils.clip_grad_norm_(model.parameters(), 0.5)  # prevent exploding gradient \n",
    "                optimizer.step()\n",
    "\n",
    "                losses.append(loss.item())\n",
    "                accuracy = torch.sum(torch.round(output) == label).item() / batch_size\n",
    "                accuracies.append(accuracy)\n",
    "                tepoch.set_postfix(loss=sum(losses)/len(losses), accuracy=100. * sum(accuracies)/len(accuracies))\n",
    "\n",
    "        # train_acc = evaluate_accuracy(train_data, False)\n",
    "        test_acc = evaluate_accuracy(test_data, False)\n",
    "        print(\"===> Epoch {} Complete: Avg. Loss: {:.4f}, Validation Accuracy: {:3.2f}%\"\n",
    "              .format(epoch, sum(losses)/len(losses), 100.*test_acc))\n",
    "        if test_acc >= best_validation_acc:\n",
    "            best_validation_acc = test_acc\n",
    "            print(\"Validation accuracy improved, saving model...\")\n",
    "            torch.save(model.state_dict(), './best_model.pt')\n",
    "            p = 0\n",
    "            print()\n",
    "        else:\n",
    "            p += 1\n",
    "            if p==my_patience:\n",
    "                print(\"Validation accuracy did not improve for {} epochs, stopping training...\".format(my_patience))\n",
    "    print(\"Loading best checkpoint...\")    \n",
    "    model.load_state_dict(torch.load('./best_model.pt'))\n",
    "    model.eval()\n",
    "    print('done.')\n",
    "\n",
    "train()"
   ]
  },
  {
   "cell_type": "markdown",
   "metadata": {
    "id": "Dvyr8B5QHlst"
   },
   "source": [
    "### = = = = = Extraction of Attention Coefficients = = = = =\n",
    "In this section, we will extract and display the attention coefficients on two levels: sentence level and word level. To do so, we will extract the corresponding weights from our model.\n",
    "#### <b>Task 3:</b>"
   ]
  },
  {
   "cell_type": "code",
   "execution_count": 13,
   "metadata": {
    "id": "UVr8cS4MHlst"
   },
   "outputs": [],
   "source": [
    "# select last review:\n",
    "my_review = my_docs_array_test[-1:, :, :]\n",
    "# convert integer review to text:\n",
    "index_to_word[1] = 'OOV'\n",
    "my_review_text = [[index_to_word[idx] for idx in sent if idx in index_to_word] for sent in my_review.tolist()[0]]"
   ]
  },
  {
   "cell_type": "code",
   "execution_count": 17,
   "metadata": {},
   "outputs": [
    {
     "name": "stdout",
     "output_type": "stream",
     "text": [
      "(1, 7, 30)\n",
      "<class 'numpy.ndarray'>\n"
     ]
    }
   ],
   "source": [
    "print(my_review.shape)\n",
    "print(type(my_review))"
   ]
  },
  {
   "cell_type": "markdown",
   "metadata": {
    "id": "wHDJ7JiqHlsu"
   },
   "source": [
    "###   &emsp;&emsp;  = = = = = Attention Over Sentences in the Document = = = = ="
   ]
  },
  {
   "cell_type": "code",
   "execution_count": 20,
   "metadata": {
    "colab": {
     "base_uri": "https://localhost:8080/"
    },
    "id": "yooWg3kkHlsu",
    "outputId": "2421291a-c557-46a9-8f75-74c998053f74"
   },
   "outputs": [
    {
     "name": "stdout",
     "output_type": "stream",
     "text": [
      "8.34 There 's a sign on The Lost Highway that says : OOV SPOILERS OOV ( but you already knew that , did n't you ? )\n",
      "14.53 Since there 's a great deal of people that apparently did not get the point of this movie , I 'd like to contribute my interpretation of why the plot\n",
      "11.42 As others have pointed out , one single viewing of this movie is not sufficient .\n",
      "20.94 If you have the DVD of MD , you can OOV ' by looking at David Lynch 's 'Top 10 OOV to OOV MD ' ( but only upon second\n",
      "17.92 ; ) First of all , Mulholland Drive is downright brilliant .\n",
      "13.86 A masterpiece .\n",
      "12.99 This is the kind of movie that refuse to leave your head .\n"
     ]
    }
   ],
   "source": [
    "sent_coeffs = model.forward(torch.Tensor(my_review).int().to(device))[2]  # get sentence attention coeffs by passing the review to the model - (you need to convert the inout torch tensor)\n",
    "sent_coeffs = sent_coeffs[0,:,:]\n",
    "\n",
    "for elt in zip(sent_coeffs[:,0].tolist(),[' '.join(elt) for elt in my_review_text]):\n",
    "    print(round(elt[0]*100,2),elt[1])"
   ]
  },
  {
   "cell_type": "markdown",
   "metadata": {
    "id": "rII-DNrKHlsu"
   },
   "source": [
    "### &emsp;&emsp; = = = = = Attention Over Words in Each Sentence = = = = ="
   ]
  },
  {
   "cell_type": "code",
   "execution_count": 21,
   "metadata": {
    "colab": {
     "base_uri": "https://localhost:8080/"
    },
    "id": "JyFjAga6Hlsu",
    "outputId": "d9640e73-a3a1-4745-b215-d55470036a3c"
   },
   "outputs": [
    {
     "name": "stdout",
     "output_type": "stream",
     "text": [
      "('There', 0.035174831178987266)\n",
      "(\"'s\", 0.027758153109377563)\n",
      "('a', 0.03446624712417508)\n",
      "('sign', 0.038164023276517564)\n",
      "('on', 0.02678488128339896)\n",
      "('The', 0.052387855633324314)\n",
      "('Lost', 0.04286720720766868)\n",
      "('Highway', 0.04087962096398182)\n",
      "('that', 0.036328641241361086)\n",
      "('says', 0.028133952697076428)\n",
      "(':', 0.032575523035163444)\n",
      "('OOV', 0.023966321009701433)\n",
      "('SPOILERS', 0.023951232042491416)\n",
      "('OOV', 0.020918451559100933)\n",
      "('(', 0.028334509847150427)\n",
      "('but', 0.03390192600987693)\n",
      "('you', 0.03946817274381633)\n",
      "('already', 0.03313277864234984)\n",
      "('knew', 0.03157815814150404)\n",
      "('that', 0.024704770505347265)\n",
      "(',', 0.01787302140797162)\n",
      "('did', 0.02981298960189428)\n",
      "(\"n't\", 0.04239442343928116)\n",
      "('you', 0.04855583666863108)\n",
      "('?', 0.041058253147301986)\n",
      "(')', 0.03291776803179756)\n",
      "= = = =\n",
      "('Since', 0.04461963348612702)\n",
      "('there', 0.04969398544631043)\n",
      "(\"'s\", 0.03733480565210917)\n",
      "('a', 0.07077953197033444)\n",
      "('great', 0.0534384543981812)\n",
      "('deal', 0.026628672600331547)\n",
      "('of', 0.01907716502298603)\n",
      "('people', 0.01730126690872099)\n",
      "('that', 0.01424779389420348)\n",
      "('apparently', 0.018582647115405856)\n",
      "('did', 0.015853441209602376)\n",
      "('not', 0.013313279918651258)\n",
      "('get', 0.017533016262898153)\n",
      "('the', 0.022068697385596026)\n",
      "('point', 0.04161418499558207)\n",
      "('of', 0.03390777986306814)\n",
      "('this', 0.05728730710348682)\n",
      "('movie', 0.04184252174265863)\n",
      "(',', 0.019962250177415822)\n",
      "('I', 0.026047269497758326)\n",
      "(\"'d\", 0.040930733206411)\n",
      "('like', 0.03847716676970502)\n",
      "('to', 0.034235908998436246)\n",
      "('contribute', 0.038597169313820706)\n",
      "('my', 0.028030276223830048)\n",
      "('interpretation', 0.04275688499322508)\n",
      "('of', 0.026236965704079053)\n",
      "('why', 0.030877857076242153)\n",
      "('the', 0.026443156230466995)\n",
      "('plot', 0.052280176769604364)\n",
      "= = = =\n",
      "('As', 0.028495613350048854)\n",
      "('others', 0.025429057719320417)\n",
      "('have', 0.0291809870716013)\n",
      "('pointed', 0.03456657403479336)\n",
      "('out', 0.03269336352883541)\n",
      "(',', 0.020361350409569354)\n",
      "('one', 0.032585550761997484)\n",
      "('single', 0.04756359621790003)\n",
      "('viewing', 0.0351900971086381)\n",
      "('of', 0.0502677738015834)\n",
      "('this', 0.06671952033053413)\n",
      "('movie', 0.053297084646323385)\n",
      "('is', 0.0729599208551452)\n",
      "('not', 0.03393310516998216)\n",
      "('sufficient', 0.054250031768380697)\n",
      "('.', 0.0329699473322976)\n",
      "= = = =\n",
      "('If', 0.05254207910389835)\n",
      "('you', 0.03299990258792401)\n",
      "('have', 0.03696144397937039)\n",
      "('the', 0.03909277461177271)\n",
      "('DVD', 0.07349813411442273)\n",
      "('of', 0.06360694593323979)\n",
      "('MD', 0.060866561409237525)\n",
      "(',', 0.020381371700175996)\n",
      "('you', 0.02869562628791465)\n",
      "('can', 0.026397646530385333)\n",
      "('OOV', 0.017768572552225394)\n",
      "(\"'\", 0.021975516104801914)\n",
      "('by', 0.03773932190314538)\n",
      "('looking', 0.08279274943306567)\n",
      "('at', 0.035544747069663284)\n",
      "('David', 0.03366701216991577)\n",
      "('Lynch', 0.024688264196700144)\n",
      "(\"'s\", 0.019898985320786794)\n",
      "(\"'Top\", 0.018771534146985208)\n",
      "('10', 0.02054640324272469)\n",
      "('OOV', 0.016225823725886414)\n",
      "('to', 0.01535905360480944)\n",
      "('OOV', 0.01519689387828557)\n",
      "('MD', 0.017965308065089832)\n",
      "(\"'\", 0.016213811665225515)\n",
      "('(', 0.019590662041131475)\n",
      "('but', 0.020316792116627055)\n",
      "('only', 0.05718936145814886)\n",
      "('upon', 0.03865451320909946)\n",
      "('second', 0.034852187759718614)\n",
      "= = = =\n",
      "(';', 0.03588687061073196)\n",
      "(')', 0.03263171738215502)\n",
      "('First', 0.0365850297480062)\n",
      "('of', 0.02326218652092238)\n",
      "('all', 0.014408034760731535)\n",
      "(',', 0.013868347846166723)\n",
      "('Mulholland', 0.02075899065475852)\n",
      "('Drive', 0.022525080230222556)\n",
      "('is', 0.07383674302533912)\n",
      "('downright', 0.19527119088764483)\n",
      "('brilliant', 0.12453314423584401)\n",
      "('.', 0.03487413116286002)\n",
      "= = = =\n",
      "('A', 0.0676741116433013)\n",
      "('masterpiece', 0.06451430502143068)\n",
      "('.', 0.05105757170669356)\n",
      "= = = =\n",
      "('This', 0.025010726118256416)\n",
      "('is', 0.06172698081319738)\n",
      "('the', 0.08184832567908416)\n",
      "('kind', 0.16118536934256383)\n",
      "('of', 0.05429406094637021)\n",
      "('movie', 0.04653718176096654)\n",
      "('that', 0.030283917880054034)\n",
      "('refuse', 0.027710194846784084)\n",
      "('to', 0.020400918850317612)\n",
      "('leave', 0.024690079843743124)\n",
      "('your', 0.02942554321165594)\n",
      "('head', 0.026155145942728705)\n",
      "('.', 0.025641374033194046)\n",
      "= = = =\n",
      "('The', 0.052387855633324314)\n",
      "('you', 0.04855583666863108)\n",
      "('Lost', 0.04286720720766868)\n",
      "(\"n't\", 0.04239442343928116)\n",
      "('?', 0.041058253147301986)\n",
      "('Highway', 0.04087962096398182)\n",
      "('you', 0.03946817274381633)\n",
      "('sign', 0.038164023276517564)\n",
      "('that', 0.036328641241361086)\n",
      "('There', 0.035174831178987266)\n",
      "('a', 0.03446624712417508)\n",
      "('but', 0.03390192600987693)\n",
      "('already', 0.03313277864234984)\n",
      "(')', 0.03291776803179756)\n",
      "(':', 0.032575523035163444)\n",
      "('knew', 0.03157815814150404)\n",
      "('did', 0.02981298960189428)\n",
      "('(', 0.028334509847150427)\n",
      "('says', 0.028133952697076428)\n",
      "(\"'s\", 0.027758153109377563)\n",
      "('on', 0.02678488128339896)\n",
      "('that', 0.024704770505347265)\n",
      "('OOV', 0.023966321009701433)\n",
      "('SPOILERS', 0.023951232042491416)\n",
      "('OOV', 0.020918451559100933)\n",
      "(',', 0.01787302140797162)\n",
      "= = = =\n",
      "('a', 0.07077953197033444)\n",
      "('this', 0.05728730710348682)\n",
      "('great', 0.0534384543981812)\n",
      "('plot', 0.052280176769604364)\n",
      "('there', 0.04969398544631043)\n",
      "('Since', 0.04461963348612702)\n",
      "('interpretation', 0.04275688499322508)\n",
      "('movie', 0.04184252174265863)\n",
      "('point', 0.04161418499558207)\n",
      "(\"'d\", 0.040930733206411)\n",
      "('contribute', 0.038597169313820706)\n",
      "('like', 0.03847716676970502)\n",
      "(\"'s\", 0.03733480565210917)\n",
      "('to', 0.034235908998436246)\n",
      "('of', 0.03390777986306814)\n",
      "('why', 0.030877857076242153)\n",
      "('my', 0.028030276223830048)\n",
      "('deal', 0.026628672600331547)\n",
      "('the', 0.026443156230466995)\n",
      "('of', 0.026236965704079053)\n",
      "('I', 0.026047269497758326)\n",
      "('the', 0.022068697385596026)\n",
      "(',', 0.019962250177415822)\n",
      "('of', 0.01907716502298603)\n",
      "('apparently', 0.018582647115405856)\n",
      "('get', 0.017533016262898153)\n",
      "('people', 0.01730126690872099)\n",
      "('did', 0.015853441209602376)\n",
      "('that', 0.01424779389420348)\n",
      "('not', 0.013313279918651258)\n",
      "= = = =\n",
      "('is', 0.0729599208551452)\n",
      "('this', 0.06671952033053413)\n",
      "('sufficient', 0.054250031768380697)\n",
      "('movie', 0.053297084646323385)\n",
      "('of', 0.0502677738015834)\n",
      "('single', 0.04756359621790003)\n",
      "('viewing', 0.0351900971086381)\n",
      "('pointed', 0.03456657403479336)\n",
      "('not', 0.03393310516998216)\n",
      "('.', 0.0329699473322976)\n",
      "('out', 0.03269336352883541)\n",
      "('one', 0.032585550761997484)\n",
      "('have', 0.0291809870716013)\n",
      "('As', 0.028495613350048854)\n",
      "('others', 0.025429057719320417)\n",
      "(',', 0.020361350409569354)\n",
      "= = = =\n",
      "('looking', 0.08279274943306567)\n",
      "('DVD', 0.07349813411442273)\n",
      "('of', 0.06360694593323979)\n",
      "('MD', 0.060866561409237525)\n",
      "('only', 0.05718936145814886)\n",
      "('If', 0.05254207910389835)\n",
      "('the', 0.03909277461177271)\n",
      "('upon', 0.03865451320909946)\n",
      "('by', 0.03773932190314538)\n",
      "('have', 0.03696144397937039)\n",
      "('at', 0.035544747069663284)\n",
      "('second', 0.034852187759718614)\n",
      "('David', 0.03366701216991577)\n",
      "('you', 0.03299990258792401)\n",
      "('you', 0.02869562628791465)\n",
      "('can', 0.026397646530385333)\n",
      "('Lynch', 0.024688264196700144)\n",
      "(\"'\", 0.021975516104801914)\n",
      "('10', 0.02054640324272469)\n",
      "(',', 0.020381371700175996)\n",
      "('but', 0.020316792116627055)\n",
      "(\"'s\", 0.019898985320786794)\n",
      "('(', 0.019590662041131475)\n",
      "(\"'Top\", 0.018771534146985208)\n",
      "('MD', 0.017965308065089832)\n",
      "('OOV', 0.017768572552225394)\n",
      "('OOV', 0.016225823725886414)\n",
      "(\"'\", 0.016213811665225515)\n",
      "('to', 0.01535905360480944)\n",
      "('OOV', 0.01519689387828557)\n",
      "= = = =\n",
      "('downright', 0.19527119088764483)\n",
      "('brilliant', 0.12453314423584401)\n",
      "('is', 0.07383674302533912)\n",
      "('First', 0.0365850297480062)\n",
      "(';', 0.03588687061073196)\n",
      "('.', 0.03487413116286002)\n",
      "(')', 0.03263171738215502)\n",
      "('of', 0.02326218652092238)\n",
      "('Drive', 0.022525080230222556)\n",
      "('Mulholland', 0.02075899065475852)\n",
      "('all', 0.014408034760731535)\n",
      "(',', 0.013868347846166723)\n",
      "= = = =\n",
      "('A', 0.0676741116433013)\n",
      "('masterpiece', 0.06451430502143068)\n",
      "('.', 0.05105757170669356)\n",
      "= = = =\n",
      "('kind', 0.16118536934256383)\n",
      "('the', 0.08184832567908416)\n",
      "('is', 0.06172698081319738)\n",
      "('of', 0.05429406094637021)\n",
      "('movie', 0.04653718176096654)\n",
      "('that', 0.030283917880054034)\n",
      "('your', 0.02942554321165594)\n",
      "('refuse', 0.027710194846784084)\n",
      "('head', 0.026155145942728705)\n",
      "('.', 0.025641374033194046)\n",
      "('This', 0.025010726118256416)\n",
      "('leave', 0.024690079843743124)\n",
      "('to', 0.020400918850317612)\n",
      "= = = =\n"
     ]
    }
   ],
   "source": [
    "word_coeffs = model.forward(torch.Tensor(my_review).int().to(device))[1]  # get words attention coeffs by passing the review to the model - (you need to convert the inout torch tensor)\n",
    "\n",
    "word_coeffs_list = word_coeffs.reshape(7,30).tolist()\n",
    "\n",
    "# match text and coefficients:\n",
    "text_word_coeffs = [list(zip(words,word_coeffs_list[idx][:len(words)])) for idx,words in enumerate(my_review_text)]\n",
    "\n",
    "for sent in text_word_coeffs:\n",
    "    [print(elt) for elt in sent]\n",
    "    print('= = = =')\n",
    "\n",
    "# sort words by importance within each sentence:\n",
    "text_word_coeffs_sorted = [sorted(elt,key=operator.itemgetter(1),reverse=True) for elt in text_word_coeffs]\n",
    "\n",
    "for sent in text_word_coeffs_sorted:\n",
    "    [print(elt) for elt in sent]\n",
    "    print('= = = =')"
   ]
  }
 ],
 "metadata": {
  "accelerator": "GPU",
  "colab": {
   "collapsed_sections": [],
   "provenance": []
  },
  "kernelspec": {
   "display_name": "Python 3.9.0 ('base')",
   "language": "python",
   "name": "python3"
  },
  "language_info": {
   "codemirror_mode": {
    "name": "ipython",
    "version": 3
   },
   "file_extension": ".py",
   "mimetype": "text/x-python",
   "name": "python",
   "nbconvert_exporter": "python",
   "pygments_lexer": "ipython3",
   "version": "3.9.0"
  },
  "vscode": {
   "interpreter": {
    "hash": "88279d2366fe020547cde40dd65aa0e3aa662a6ec1f3ca12d88834876c85e1a6"
   }
  }
 },
 "nbformat": 4,
 "nbformat_minor": 4
}
